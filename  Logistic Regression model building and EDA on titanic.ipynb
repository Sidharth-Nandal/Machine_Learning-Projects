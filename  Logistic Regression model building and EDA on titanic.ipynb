{
 "cells": [
  {
   "cell_type": "code",
   "execution_count": 1,
   "id": "6190c3ee",
   "metadata": {},
   "outputs": [],
   "source": [
    "import pandas as pd\n",
    "import numpy as np\n",
    "import matplotlib.pyplot as plt\n",
    "import seaborn as sns\n",
    "\n",
    "import scipy.stats as stats\n",
    "import statsmodels.formula.api as sfa\n",
    "import statsmodels.api as sma\n",
    "\n",
    "# VIF \n",
    "from statsmodels.stats.outliers_influence import variance_inflation_factor \n",
    "\n",
    "from sklearn.metrics import r2_score, mean_absolute_error, mean_squared_error\n",
    "from sklearn.metrics import mean_absolute_percentage_error\n",
    "\n",
    "from sklearn.model_selection import train_test_split\n",
    "from sklearn.model_selection import KFold, LeaveOneOut, cross_val_score\n",
    "from sklearn.linear_model import LinearRegression\n",
    "from sklearn.feature_selection import RFE, RFECV\n",
    "# Terminal --> pip install mlxtend\n",
    "\n",
    "#from mlxtend.feature_selection\n",
    "\n",
    "import warnings\n",
    "warnings.filterwarnings('ignore')"
   ]
  },
  {
   "cell_type": "code",
   "execution_count": 2,
   "id": "63ba6413",
   "metadata": {},
   "outputs": [],
   "source": [
    "train = pd.read_csv('train.csv')\n",
    "test = pd.read_csv('test.csv')"
   ]
  },
  {
   "cell_type": "markdown",
   "id": "52faa77f",
   "metadata": {},
   "source": [
    "* Feature engineering\n",
    "* issing values\n",
    "* one hot encoding"
   ]
  },
  {
   "cell_type": "code",
   "execution_count": 3,
   "id": "c5c6a465",
   "metadata": {},
   "outputs": [],
   "source": [
    "# combine the dataset\n",
    "combined = pd.concat([train,test],ignore_index=True)"
   ]
  },
  {
   "cell_type": "code",
   "execution_count": 4,
   "id": "179ef85d",
   "metadata": {},
   "outputs": [
    {
     "data": {
      "text/plain": [
       "Cabin          1014\n",
       "Survived        418\n",
       "Age             263\n",
       "Embarked          2\n",
       "Fare              1\n",
       "PassengerId       0\n",
       "Pclass            0\n",
       "Name              0\n",
       "Sex               0\n",
       "SibSp             0\n",
       "Parch             0\n",
       "Ticket            0\n",
       "dtype: int64"
      ]
     },
     "execution_count": 4,
     "metadata": {},
     "output_type": "execute_result"
    }
   ],
   "source": [
    "# checking the missing values\n",
    "combined.isnull().sum().sort_values(ascending=False)"
   ]
  },
  {
   "cell_type": "code",
   "execution_count": 5,
   "id": "6facd3ca",
   "metadata": {},
   "outputs": [
    {
     "data": {
      "text/html": [
       "<div>\n",
       "<style scoped>\n",
       "    .dataframe tbody tr th:only-of-type {\n",
       "        vertical-align: middle;\n",
       "    }\n",
       "\n",
       "    .dataframe tbody tr th {\n",
       "        vertical-align: top;\n",
       "    }\n",
       "\n",
       "    .dataframe thead th {\n",
       "        text-align: right;\n",
       "    }\n",
       "</style>\n",
       "<table border=\"1\" class=\"dataframe\">\n",
       "  <thead>\n",
       "    <tr style=\"text-align: right;\">\n",
       "      <th></th>\n",
       "      <th>PassengerId</th>\n",
       "      <th>Survived</th>\n",
       "      <th>Pclass</th>\n",
       "      <th>Name</th>\n",
       "      <th>Sex</th>\n",
       "      <th>Age</th>\n",
       "      <th>SibSp</th>\n",
       "      <th>Parch</th>\n",
       "      <th>Ticket</th>\n",
       "      <th>Fare</th>\n",
       "      <th>Cabin</th>\n",
       "      <th>Embarked</th>\n",
       "    </tr>\n",
       "  </thead>\n",
       "  <tbody>\n",
       "    <tr>\n",
       "      <th>0</th>\n",
       "      <td>1</td>\n",
       "      <td>0.0</td>\n",
       "      <td>3</td>\n",
       "      <td>Braund, Mr. Owen Harris</td>\n",
       "      <td>male</td>\n",
       "      <td>22.0</td>\n",
       "      <td>1</td>\n",
       "      <td>0</td>\n",
       "      <td>A/5 21171</td>\n",
       "      <td>7.2500</td>\n",
       "      <td>NaN</td>\n",
       "      <td>S</td>\n",
       "    </tr>\n",
       "    <tr>\n",
       "      <th>1</th>\n",
       "      <td>2</td>\n",
       "      <td>1.0</td>\n",
       "      <td>1</td>\n",
       "      <td>Cumings, Mrs. John Bradley (Florence Briggs Th...</td>\n",
       "      <td>female</td>\n",
       "      <td>38.0</td>\n",
       "      <td>1</td>\n",
       "      <td>0</td>\n",
       "      <td>PC 17599</td>\n",
       "      <td>71.2833</td>\n",
       "      <td>C85</td>\n",
       "      <td>C</td>\n",
       "    </tr>\n",
       "  </tbody>\n",
       "</table>\n",
       "</div>"
      ],
      "text/plain": [
       "   PassengerId  Survived  Pclass  \\\n",
       "0            1       0.0       3   \n",
       "1            2       1.0       1   \n",
       "\n",
       "                                                Name     Sex   Age  SibSp  \\\n",
       "0                            Braund, Mr. Owen Harris    male  22.0      1   \n",
       "1  Cumings, Mrs. John Bradley (Florence Briggs Th...  female  38.0      1   \n",
       "\n",
       "   Parch     Ticket     Fare Cabin Embarked  \n",
       "0      0  A/5 21171   7.2500   NaN        S  \n",
       "1      0   PC 17599  71.2833   C85        C  "
      ]
     },
     "execution_count": 5,
     "metadata": {},
     "output_type": "execute_result"
    }
   ],
   "source": [
    "combined.head(2)"
   ]
  },
  {
   "cell_type": "code",
   "execution_count": 6,
   "id": "eb233949",
   "metadata": {},
   "outputs": [
    {
     "data": {
      "text/plain": [
       "Index(['PassengerId', 'Survived', 'Pclass', 'Name', 'Sex', 'Age', 'SibSp',\n",
       "       'Parch', 'Ticket', 'Fare', 'Cabin', 'Embarked'],\n",
       "      dtype='object')"
      ]
     },
     "execution_count": 6,
     "metadata": {},
     "output_type": "execute_result"
    }
   ],
   "source": [
    "combined.columns\n"
   ]
  },
  {
   "cell_type": "code",
   "execution_count": 7,
   "id": "6b697f9b",
   "metadata": {},
   "outputs": [
    {
     "data": {
      "text/plain": [
       "array([nan, 'C85', 'C123', 'E46', 'G6', 'C103', 'D56', 'A6',\n",
       "       'C23 C25 C27', 'B78', 'D33', 'B30', 'C52', 'B28', 'C83', 'F33',\n",
       "       'F G73', 'E31', 'A5', 'D10 D12', 'D26', 'C110', 'B58 B60', 'E101',\n",
       "       'F E69', 'D47', 'B86', 'F2', 'C2', 'E33', 'B19', 'A7', 'C49', 'F4',\n",
       "       'A32', 'B4', 'B80', 'A31', 'D36', 'D15', 'C93', 'C78', 'D35',\n",
       "       'C87', 'B77', 'E67', 'B94', 'C125', 'C99', 'C118', 'D7', 'A19',\n",
       "       'B49', 'D', 'C22 C26', 'C106', 'C65', 'E36', 'C54',\n",
       "       'B57 B59 B63 B66', 'C7', 'E34', 'C32', 'B18', 'C124', 'C91', 'E40',\n",
       "       'T', 'C128', 'D37', 'B35', 'E50', 'C82', 'B96 B98', 'E10', 'E44',\n",
       "       'A34', 'C104', 'C111', 'C92', 'E38', 'D21', 'E12', 'E63', 'A14',\n",
       "       'B37', 'C30', 'D20', 'B79', 'E25', 'D46', 'B73', 'C95', 'B38',\n",
       "       'B39', 'B22', 'C86', 'C70', 'A16', 'C101', 'C68', 'A10', 'E68',\n",
       "       'B41', 'A20', 'D19', 'D50', 'D9', 'A23', 'B50', 'A26', 'D48',\n",
       "       'E58', 'C126', 'B71', 'B51 B53 B55', 'D49', 'B5', 'B20', 'F G63',\n",
       "       'C62 C64', 'E24', 'C90', 'C45', 'E8', 'B101', 'D45', 'C46', 'D30',\n",
       "       'E121', 'D11', 'E77', 'F38', 'B3', 'D6', 'B82 B84', 'D17', 'A36',\n",
       "       'B102', 'B69', 'E49', 'C47', 'D28', 'E17', 'A24', 'C50', 'B42',\n",
       "       'C148', 'B45', 'B36', 'A21', 'D34', 'A9', 'C31', 'B61', 'C53',\n",
       "       'D43', 'C130', 'C132', 'C55 C57', 'C116', 'F', 'A29', 'C6', 'C28',\n",
       "       'C51', 'C97', 'D22', 'B10', 'E45', 'E52', 'A11', 'B11', 'C80',\n",
       "       'C89', 'F E46', 'B26', 'F E57', 'A18', 'E60', 'E39 E41',\n",
       "       'B52 B54 B56', 'C39', 'B24', 'D40', 'D38', 'C105'], dtype=object)"
      ]
     },
     "execution_count": 7,
     "metadata": {},
     "output_type": "execute_result"
    }
   ],
   "source": [
    "combined['Cabin'].unique()"
   ]
  },
  {
   "cell_type": "code",
   "execution_count": 8,
   "id": "56652a94",
   "metadata": {},
   "outputs": [],
   "source": [
    "cabins = ['C85', 'C123', 'E46', 'G6', 'C103', 'D56', 'A6',\n",
    "       'C23 C25 C27', 'B78', 'D33', 'B30', 'C52', 'B28', 'C83', 'F33',\n",
    "       'F G73', 'E31', 'A5', 'D10 D12', 'D26', 'C110', 'B58 B60', 'E101',\n",
    "       'F E69', 'D47', 'B86', 'F2', 'C2', 'E33', 'B19', 'A7', 'C49', 'F4',\n",
    "       'A32', 'B4', 'B80', 'A31', 'D36', 'D15', 'C93', 'C78', 'D35',\n",
    "       'C87', 'B77', 'E67', 'B94', 'C125', 'C99', 'C118', 'D7', 'A19',\n",
    "       'B49', 'D', 'C22 C26', 'C106', 'C65', 'E36', 'C54',\n",
    "       'B57 B59 B63 B66', 'C7', 'E34', 'C32', 'B18', 'C124', 'C91', 'E40',\n",
    "       'T', 'C128', 'D37', 'B35', 'E50', 'C82', 'B96 B98', 'E10', 'E44',\n",
    "       'A34', 'C104', 'C111', 'C92', 'E38', 'D21', 'E12', 'E63', 'A14',\n",
    "       'B37', 'C30', 'D20', 'B79', 'E25', 'D46', 'B73', 'C95', 'B38',\n",
    "       'B39', 'B22', 'C86', 'C70', 'A16', 'C101', 'C68', 'A10', 'E68',\n",
    "       'B41', 'A20', 'D19', 'D50', 'D9', 'A23', 'B50', 'A26', 'D48',\n",
    "       'E58', 'C126', 'B71', 'B51 B53 B55', 'D49', 'B5', 'B20', 'F G63',\n",
    "       'C62 C64', 'E24', 'C90', 'C45', 'E8', 'B101', 'D45', 'C46', 'D30',\n",
    "       'E121', 'D11', 'E77', 'F38', 'B3', 'D6', 'B82 B84', 'D17', 'A36',\n",
    "       'B102', 'B69', 'E49', 'C47', 'D28', 'E17', 'A24', 'C50', 'B42',\n",
    "       'C148', 'B45', 'B36', 'A21', 'D34', 'A9', 'C31', 'B61', 'C53',\n",
    "       'D43', 'C130', 'C132', 'C55 C57', 'C116', 'F', 'A29', 'C6', 'C28',\n",
    "       'C51', 'C97', 'D22', 'B10', 'E45', 'E52', 'A11', 'B11', 'C80',\n",
    "       'C89', 'F E46', 'B26', 'F E57', 'A18', 'E60', 'E39 E41',\n",
    "       'B52 B54 B56', 'C39', 'B24', 'D40', 'D38', 'C105']"
   ]
  },
  {
   "cell_type": "code",
   "execution_count": 9,
   "id": "4606ba7c",
   "metadata": {},
   "outputs": [],
   "source": [
    "def cabin_labels(x):\n",
    "    if x in cabins:\n",
    "        return('cabin_avail')\n",
    "    else:\n",
    "        return('missing')"
   ]
  },
  {
   "cell_type": "code",
   "execution_count": 10,
   "id": "1fe8f036",
   "metadata": {},
   "outputs": [
    {
     "data": {
      "text/plain": [
       "Index(['PassengerId', 'Survived', 'Pclass', 'Name', 'Sex', 'Age', 'SibSp',\n",
       "       'Parch', 'Ticket', 'Fare', 'Cabin', 'Embarked'],\n",
       "      dtype='object')"
      ]
     },
     "execution_count": 10,
     "metadata": {},
     "output_type": "execute_result"
    }
   ],
   "source": [
    "combined.columns"
   ]
  },
  {
   "cell_type": "code",
   "execution_count": 11,
   "id": "43681701",
   "metadata": {},
   "outputs": [],
   "source": [
    "# Lets apply this on cabin column\n",
    "combined['cabin_cat'] = combined['Cabin'].apply(cabin_labels)"
   ]
  },
  {
   "cell_type": "code",
   "execution_count": 12,
   "id": "3eaf7a76",
   "metadata": {},
   "outputs": [
    {
     "data": {
      "text/html": [
       "<div>\n",
       "<style scoped>\n",
       "    .dataframe tbody tr th:only-of-type {\n",
       "        vertical-align: middle;\n",
       "    }\n",
       "\n",
       "    .dataframe tbody tr th {\n",
       "        vertical-align: top;\n",
       "    }\n",
       "\n",
       "    .dataframe thead th {\n",
       "        text-align: right;\n",
       "    }\n",
       "</style>\n",
       "<table border=\"1\" class=\"dataframe\">\n",
       "  <thead>\n",
       "    <tr style=\"text-align: right;\">\n",
       "      <th>cabin_cat</th>\n",
       "      <th>cabin_avail</th>\n",
       "      <th>missing</th>\n",
       "    </tr>\n",
       "    <tr>\n",
       "      <th>Survived</th>\n",
       "      <th></th>\n",
       "      <th></th>\n",
       "    </tr>\n",
       "  </thead>\n",
       "  <tbody>\n",
       "    <tr>\n",
       "      <th>0.0</th>\n",
       "      <td>68</td>\n",
       "      <td>481</td>\n",
       "    </tr>\n",
       "    <tr>\n",
       "      <th>1.0</th>\n",
       "      <td>136</td>\n",
       "      <td>206</td>\n",
       "    </tr>\n",
       "  </tbody>\n",
       "</table>\n",
       "</div>"
      ],
      "text/plain": [
       "cabin_cat  cabin_avail  missing\n",
       "Survived                       \n",
       "0.0                 68      481\n",
       "1.0                136      206"
      ]
     },
     "execution_count": 12,
     "metadata": {},
     "output_type": "execute_result"
    }
   ],
   "source": [
    "pd.crosstab(combined.Survived, combined.cabin_cat)"
   ]
  },
  {
   "cell_type": "markdown",
   "id": "c68e3aef",
   "metadata": {},
   "source": [
    "## Name"
   ]
  },
  {
   "cell_type": "code",
   "execution_count": 13,
   "id": "b3619883",
   "metadata": {},
   "outputs": [
    {
     "data": {
      "text/plain": [
       "'Mrs'"
      ]
     },
     "execution_count": 13,
     "metadata": {},
     "output_type": "execute_result"
    }
   ],
   "source": [
    "combined.Name[899].split(', ')[1].split('. ')[0]"
   ]
  },
  {
   "cell_type": "code",
   "execution_count": 14,
   "id": "23c80cb5",
   "metadata": {},
   "outputs": [
    {
     "data": {
      "text/plain": [
       "'Mrs'"
      ]
     },
     "execution_count": 14,
     "metadata": {},
     "output_type": "execute_result"
    }
   ],
   "source": [
    "combined.Name[899].split(', ')[1].split('. ')[0]"
   ]
  },
  {
   "cell_type": "code",
   "execution_count": 15,
   "id": "6bc4d128",
   "metadata": {},
   "outputs": [],
   "source": [
    "titless = []\n",
    "for i in combined.Name:\n",
    "    titless.append(i.split(', ')[1].split('. ')[0])"
   ]
  },
  {
   "cell_type": "code",
   "execution_count": 16,
   "id": "58f1c6c5",
   "metadata": {},
   "outputs": [],
   "source": [
    "combined['Titles']=pd.Series(titless)"
   ]
  },
  {
   "cell_type": "code",
   "execution_count": 17,
   "id": "40d135ed",
   "metadata": {},
   "outputs": [
    {
     "data": {
      "text/plain": [
       "array(['Mr', 'Mrs', 'Miss', 'Master', 'Don', 'Rev', 'Dr', 'Mme', 'Ms',\n",
       "       'Major', 'Lady', 'Sir', 'Mlle', 'Col', 'Capt', 'the Countess',\n",
       "       'Jonkheer', 'Dona'], dtype=object)"
      ]
     },
     "execution_count": 17,
     "metadata": {},
     "output_type": "execute_result"
    }
   ],
   "source": [
    "combined.Titles.unique()"
   ]
  },
  {
   "cell_type": "code",
   "execution_count": 18,
   "id": "085c1f07",
   "metadata": {},
   "outputs": [],
   "source": [
    "titles_ignore = ['Don', 'Rev', 'Dr', 'Mme',\n",
    "       'Major', 'Lady', 'Sir', 'Mlle', 'Col', 'Capt', 'the Countess',\n",
    "       'Jonkheer', 'Dona']\n",
    "\n",
    "def notitle(x):\n",
    "    if x in titles_ignore:\n",
    "        return('others')\n",
    "    else:\n",
    "        return(x)"
   ]
  },
  {
   "cell_type": "code",
   "execution_count": 19,
   "id": "887159ce",
   "metadata": {},
   "outputs": [],
   "source": [
    "combined['Titles'] = combined['Titles'].apply(notitle)"
   ]
  },
  {
   "cell_type": "code",
   "execution_count": 20,
   "id": "ed5cc188",
   "metadata": {},
   "outputs": [],
   "source": [
    "combined.drop(['PassengerId','Name','Cabin','Ticket'],axis = 1, inplace=True)"
   ]
  },
  {
   "cell_type": "markdown",
   "id": "59a6cb69",
   "metadata": {},
   "source": [
    "### Family"
   ]
  },
  {
   "cell_type": "code",
   "execution_count": 21,
   "id": "758320fc",
   "metadata": {},
   "outputs": [],
   "source": [
    "combined['Family'] = combined.SibSp+combined.Parch+1"
   ]
  },
  {
   "cell_type": "code",
   "execution_count": 22,
   "id": "1e849f3f",
   "metadata": {},
   "outputs": [],
   "source": [
    "def parivar(x):\n",
    "    if x == 1:\n",
    "        return('solo')\n",
    "    elif x ==2:\n",
    "        return('duo')\n",
    "    elif x<=4:\n",
    "        return('small')\n",
    "    else:\n",
    "        return('big')"
   ]
  },
  {
   "cell_type": "code",
   "execution_count": 23,
   "id": "0554e0c6",
   "metadata": {},
   "outputs": [],
   "source": [
    "combined['family_cat'] = combined.Family.apply(parivar)"
   ]
  },
  {
   "cell_type": "code",
   "execution_count": 24,
   "id": "44356deb",
   "metadata": {},
   "outputs": [
    {
     "data": {
      "text/html": [
       "<div>\n",
       "<style scoped>\n",
       "    .dataframe tbody tr th:only-of-type {\n",
       "        vertical-align: middle;\n",
       "    }\n",
       "\n",
       "    .dataframe tbody tr th {\n",
       "        vertical-align: top;\n",
       "    }\n",
       "\n",
       "    .dataframe thead th {\n",
       "        text-align: right;\n",
       "    }\n",
       "</style>\n",
       "<table border=\"1\" class=\"dataframe\">\n",
       "  <thead>\n",
       "    <tr style=\"text-align: right;\">\n",
       "      <th>Survived</th>\n",
       "      <th>0.0</th>\n",
       "      <th>1.0</th>\n",
       "    </tr>\n",
       "    <tr>\n",
       "      <th>family_cat</th>\n",
       "      <th></th>\n",
       "      <th></th>\n",
       "    </tr>\n",
       "  </thead>\n",
       "  <tbody>\n",
       "    <tr>\n",
       "      <th>big</th>\n",
       "      <td>52</td>\n",
       "      <td>10</td>\n",
       "    </tr>\n",
       "    <tr>\n",
       "      <th>duo</th>\n",
       "      <td>72</td>\n",
       "      <td>89</td>\n",
       "    </tr>\n",
       "    <tr>\n",
       "      <th>small</th>\n",
       "      <td>51</td>\n",
       "      <td>80</td>\n",
       "    </tr>\n",
       "    <tr>\n",
       "      <th>solo</th>\n",
       "      <td>374</td>\n",
       "      <td>163</td>\n",
       "    </tr>\n",
       "  </tbody>\n",
       "</table>\n",
       "</div>"
      ],
      "text/plain": [
       "Survived    0.0  1.0\n",
       "family_cat          \n",
       "big          52   10\n",
       "duo          72   89\n",
       "small        51   80\n",
       "solo        374  163"
      ]
     },
     "execution_count": 24,
     "metadata": {},
     "output_type": "execute_result"
    }
   ],
   "source": [
    "pd.crosstab(combined.family_cat, combined.Survived)"
   ]
  },
  {
   "cell_type": "code",
   "execution_count": 28,
   "id": "637975cb",
   "metadata": {},
   "outputs": [
    {
     "data": {
      "text/html": [
       "<div>\n",
       "<style scoped>\n",
       "    .dataframe tbody tr th:only-of-type {\n",
       "        vertical-align: middle;\n",
       "    }\n",
       "\n",
       "    .dataframe tbody tr th {\n",
       "        vertical-align: top;\n",
       "    }\n",
       "\n",
       "    .dataframe thead th {\n",
       "        text-align: right;\n",
       "    }\n",
       "</style>\n",
       "<table border=\"1\" class=\"dataframe\">\n",
       "  <thead>\n",
       "    <tr style=\"text-align: right;\">\n",
       "      <th>Titles</th>\n",
       "      <th>Master</th>\n",
       "      <th>Miss</th>\n",
       "      <th>Mr</th>\n",
       "      <th>Mrs</th>\n",
       "      <th>Ms</th>\n",
       "      <th>others</th>\n",
       "    </tr>\n",
       "  </thead>\n",
       "  <tbody>\n",
       "    <tr>\n",
       "      <th>count</th>\n",
       "      <td>53.000000</td>\n",
       "      <td>210.000000</td>\n",
       "      <td>581.000000</td>\n",
       "      <td>170.000000</td>\n",
       "      <td>1.0</td>\n",
       "      <td>31.000000</td>\n",
       "    </tr>\n",
       "    <tr>\n",
       "      <th>mean</th>\n",
       "      <td>5.482642</td>\n",
       "      <td>21.774238</td>\n",
       "      <td>32.252151</td>\n",
       "      <td>36.994118</td>\n",
       "      <td>28.0</td>\n",
       "      <td>43.129032</td>\n",
       "    </tr>\n",
       "    <tr>\n",
       "      <th>std</th>\n",
       "      <td>4.161554</td>\n",
       "      <td>12.249077</td>\n",
       "      <td>12.422089</td>\n",
       "      <td>12.901767</td>\n",
       "      <td>NaN</td>\n",
       "      <td>12.309189</td>\n",
       "    </tr>\n",
       "    <tr>\n",
       "      <th>min</th>\n",
       "      <td>0.330000</td>\n",
       "      <td>0.170000</td>\n",
       "      <td>11.000000</td>\n",
       "      <td>14.000000</td>\n",
       "      <td>28.0</td>\n",
       "      <td>23.000000</td>\n",
       "    </tr>\n",
       "    <tr>\n",
       "      <th>25%</th>\n",
       "      <td>2.000000</td>\n",
       "      <td>15.000000</td>\n",
       "      <td>23.000000</td>\n",
       "      <td>27.000000</td>\n",
       "      <td>28.0</td>\n",
       "      <td>32.500000</td>\n",
       "    </tr>\n",
       "    <tr>\n",
       "      <th>50%</th>\n",
       "      <td>4.000000</td>\n",
       "      <td>22.000000</td>\n",
       "      <td>29.000000</td>\n",
       "      <td>35.500000</td>\n",
       "      <td>28.0</td>\n",
       "      <td>45.000000</td>\n",
       "    </tr>\n",
       "    <tr>\n",
       "      <th>75%</th>\n",
       "      <td>9.000000</td>\n",
       "      <td>30.000000</td>\n",
       "      <td>39.000000</td>\n",
       "      <td>46.500000</td>\n",
       "      <td>28.0</td>\n",
       "      <td>52.500000</td>\n",
       "    </tr>\n",
       "    <tr>\n",
       "      <th>max</th>\n",
       "      <td>14.500000</td>\n",
       "      <td>63.000000</td>\n",
       "      <td>80.000000</td>\n",
       "      <td>76.000000</td>\n",
       "      <td>28.0</td>\n",
       "      <td>70.000000</td>\n",
       "    </tr>\n",
       "  </tbody>\n",
       "</table>\n",
       "</div>"
      ],
      "text/plain": [
       "Titles     Master        Miss          Mr         Mrs    Ms     others\n",
       "count   53.000000  210.000000  581.000000  170.000000   1.0  31.000000\n",
       "mean     5.482642   21.774238   32.252151   36.994118  28.0  43.129032\n",
       "std      4.161554   12.249077   12.422089   12.901767   NaN  12.309189\n",
       "min      0.330000    0.170000   11.000000   14.000000  28.0  23.000000\n",
       "25%      2.000000   15.000000   23.000000   27.000000  28.0  32.500000\n",
       "50%      4.000000   22.000000   29.000000   35.500000  28.0  45.000000\n",
       "75%      9.000000   30.000000   39.000000   46.500000  28.0  52.500000\n",
       "max     14.500000   63.000000   80.000000   76.000000  28.0  70.000000"
      ]
     },
     "execution_count": 28,
     "metadata": {},
     "output_type": "execute_result"
    }
   ],
   "source": [
    "combined.groupby(by = 'Titles')['Age'].describe().T"
   ]
  },
  {
   "cell_type": "markdown",
   "id": "3537e2a4",
   "metadata": {},
   "source": [
    "### Missing values"
   ]
  },
  {
   "cell_type": "code",
   "execution_count": 33,
   "id": "d93ca784",
   "metadata": {},
   "outputs": [],
   "source": [
    "# treating the missing value in columns Age\n",
    "missing_titles = combined.loc[combined.Age.isnull()]['Titles'].unique()"
   ]
  },
  {
   "cell_type": "code",
   "execution_count": 41,
   "id": "5cd6090a",
   "metadata": {},
   "outputs": [],
   "source": [
    "for i in missing_titles:\n",
    "    combined.loc[combined.Age.isnull(), 'Age'] = combined.loc[combined.Titles==i,'Age'].median()"
   ]
  },
  {
   "cell_type": "code",
   "execution_count": 51,
   "id": "a6800f3f",
   "metadata": {},
   "outputs": [],
   "source": [
    "# Treating the missing value in column Embarked\n",
    "combined.loc[combined.Embarked.isnull(),'Embarked'] = combined.Embarked.mode()[0]"
   ]
  },
  {
   "cell_type": "code",
   "execution_count": 56,
   "id": "4726c6a7",
   "metadata": {},
   "outputs": [],
   "source": [
    "# Missing the null values in Fare\n",
    "combined.loc[combined.Fare.isnull(),'Fare'] = combined.Fare.median()"
   ]
  },
  {
   "cell_type": "code",
   "execution_count": 58,
   "id": "f70e40ee",
   "metadata": {},
   "outputs": [
    {
     "data": {
      "text/plain": [
       "((891, 12), (418, 12))"
      ]
     },
     "execution_count": 58,
     "metadata": {},
     "output_type": "execute_result"
    }
   ],
   "source": [
    "# Split the data back in train and test\n",
    "newtrain = combined.loc[0:train.shape[0]-1, ]\n",
    "newtest = combined.loc[train.shape[0]:, ]\n",
    "\n",
    "newtrain.shape, newtest.shape"
   ]
  },
  {
   "cell_type": "code",
   "execution_count": 61,
   "id": "0ff3b005",
   "metadata": {},
   "outputs": [],
   "source": [
    "# lets split the data in x and y\n",
    "X = newtrain.drop(['Survived'],axis = 1)\n",
    "y = newtrain.Survived.astype(int)\n",
    "\n",
    "newtest.drop(['Survived'],axis = 1, inplace = True)"
   ]
  },
  {
   "cell_type": "markdown",
   "id": "6c4f5c89",
   "metadata": {},
   "source": [
    "### Model building\n",
    "\n",
    "* The first model in classicfication which is alo known as base_model should be a prediction of 0"
   ]
  },
  {
   "cell_type": "code",
   "execution_count": 68,
   "id": "e2d4711b",
   "metadata": {},
   "outputs": [],
   "source": [
    "submission = pd.DataFrame({'PassengerId':test.PassengerId,'Survived':0})\n",
    "\n",
    "submission.to_csv('basemodeltitanic.csv',index = False)"
   ]
  },
  {
   "cell_type": "code",
   "execution_count": 69,
   "id": "48de81e9",
   "metadata": {},
   "outputs": [
    {
     "name": "stdout",
     "output_type": "stream",
     "text": [
      "C:\\Users\\sidharth nandal\n"
     ]
    }
   ],
   "source": [
    "cd"
   ]
  },
  {
   "cell_type": "code",
   "execution_count": 71,
   "id": "f34d6451",
   "metadata": {},
   "outputs": [],
   "source": [
    "# dummify the data\n",
    "newX = pd.get_dummies(X, drop_first=True)\n",
    "newtest = pd.get_dummies(newtest,drop_first=True)"
   ]
  },
  {
   "cell_type": "code",
   "execution_count": 73,
   "id": "f402c34c",
   "metadata": {},
   "outputs": [],
   "source": [
    "from sklearn.linear_model import LogisticRegression\n",
    "lg = LogisticRegression()\n",
    "pred = lg.fit(newX,y).predict(newtest)"
   ]
  },
  {
   "cell_type": "code",
   "execution_count": 82,
   "id": "ed00f9de",
   "metadata": {},
   "outputs": [],
   "source": [
    "submission = pd.DataFrame({'PassengerId':test.PassengerId,'Survived':pred})\n",
    "\n",
    "submission.to_csv('logistic_titanic.csv',index = False)"
   ]
  },
  {
   "cell_type": "code",
   "execution_count": 83,
   "id": "bfaad1b5",
   "metadata": {},
   "outputs": [
    {
     "name": "stdout",
     "output_type": "stream",
     "text": [
      "C:\\Users\\sidharth nandal\n"
     ]
    }
   ],
   "source": [
    "cd"
   ]
  },
  {
   "cell_type": "code",
   "execution_count": 66,
   "id": "c348964b",
   "metadata": {},
   "outputs": [
    {
     "data": {
      "text/html": [
       "<div>\n",
       "<style scoped>\n",
       "    .dataframe tbody tr th:only-of-type {\n",
       "        vertical-align: middle;\n",
       "    }\n",
       "\n",
       "    .dataframe tbody tr th {\n",
       "        vertical-align: top;\n",
       "    }\n",
       "\n",
       "    .dataframe thead th {\n",
       "        text-align: right;\n",
       "    }\n",
       "</style>\n",
       "<table border=\"1\" class=\"dataframe\">\n",
       "  <thead>\n",
       "    <tr style=\"text-align: right;\">\n",
       "      <th></th>\n",
       "      <th>Survived</th>\n",
       "      <th>Pclass</th>\n",
       "      <th>Sex</th>\n",
       "      <th>Age</th>\n",
       "      <th>SibSp</th>\n",
       "      <th>Parch</th>\n",
       "      <th>Fare</th>\n",
       "      <th>Embarked</th>\n",
       "      <th>cabin_cat</th>\n",
       "      <th>Titles</th>\n",
       "      <th>Family</th>\n",
       "      <th>family_cat</th>\n",
       "    </tr>\n",
       "  </thead>\n",
       "  <tbody>\n",
       "    <tr>\n",
       "      <th>0</th>\n",
       "      <td>0.0</td>\n",
       "      <td>3</td>\n",
       "      <td>male</td>\n",
       "      <td>22.0</td>\n",
       "      <td>1</td>\n",
       "      <td>0</td>\n",
       "      <td>7.2500</td>\n",
       "      <td>S</td>\n",
       "      <td>missing</td>\n",
       "      <td>Mr</td>\n",
       "      <td>2</td>\n",
       "      <td>duo</td>\n",
       "    </tr>\n",
       "    <tr>\n",
       "      <th>1</th>\n",
       "      <td>1.0</td>\n",
       "      <td>1</td>\n",
       "      <td>female</td>\n",
       "      <td>38.0</td>\n",
       "      <td>1</td>\n",
       "      <td>0</td>\n",
       "      <td>71.2833</td>\n",
       "      <td>C</td>\n",
       "      <td>cabin_avail</td>\n",
       "      <td>Mrs</td>\n",
       "      <td>2</td>\n",
       "      <td>duo</td>\n",
       "    </tr>\n",
       "  </tbody>\n",
       "</table>\n",
       "</div>"
      ],
      "text/plain": [
       "   Survived  Pclass     Sex   Age  SibSp  Parch     Fare Embarked  \\\n",
       "0       0.0       3    male  22.0      1      0   7.2500        S   \n",
       "1       1.0       1  female  38.0      1      0  71.2833        C   \n",
       "\n",
       "     cabin_cat Titles  Family family_cat  \n",
       "0      missing     Mr       2        duo  \n",
       "1  cabin_avail    Mrs       2        duo  "
      ]
     },
     "execution_count": 66,
     "metadata": {},
     "output_type": "execute_result"
    }
   ],
   "source": [
    "combined.head(2)"
   ]
  },
  {
   "cell_type": "code",
   "execution_count": null,
   "id": "2328d0ac",
   "metadata": {},
   "outputs": [],
   "source": []
  }
 ],
 "metadata": {
  "kernelspec": {
   "display_name": "Python 3 (ipykernel)",
   "language": "python",
   "name": "python3"
  },
  "language_info": {
   "codemirror_mode": {
    "name": "ipython",
    "version": 3
   },
   "file_extension": ".py",
   "mimetype": "text/x-python",
   "name": "python",
   "nbconvert_exporter": "python",
   "pygments_lexer": "ipython3",
   "version": "3.11.3"
  }
 },
 "nbformat": 4,
 "nbformat_minor": 5
}
