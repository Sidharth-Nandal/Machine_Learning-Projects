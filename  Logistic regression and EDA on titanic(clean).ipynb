{
 "cells": [
  {
   "cell_type": "code",
   "execution_count": 1,
   "id": "6190c3ee",
   "metadata": {},
   "outputs": [],
   "source": [
    "import pandas as pd\n",
    "import numpy as np\n",
    "import matplotlib.pyplot as plt\n",
    "import seaborn as sns\n",
    "\n",
    "import scipy.stats as stats\n",
    "import statsmodels.formula.api as sfa\n",
    "import statsmodels.api as sma\n",
    "\n",
    "# VIF \n",
    "from statsmodels.stats.outliers_influence import variance_inflation_factor \n",
    "\n",
    "from sklearn.metrics import r2_score, mean_absolute_error, mean_squared_error\n",
    "from sklearn.metrics import mean_absolute_percentage_error\n",
    "\n",
    "from sklearn.model_selection import train_test_split\n",
    "from sklearn.model_selection import KFold, LeaveOneOut, cross_val_score\n",
    "from sklearn.linear_model import LinearRegression\n",
    "from sklearn.feature_selection import RFE, RFECV\n",
    "# Terminal --> pip install mlxtend\n",
    "\n",
    "#from mlxtend.feature_selection\n",
    "\n",
    "import warnings\n",
    "warnings.filterwarnings('ignore')"
   ]
  },
  {
   "cell_type": "code",
   "execution_count": 2,
   "id": "63ba6413",
   "metadata": {},
   "outputs": [],
   "source": [
    "train = pd.read_csv('train.csv')\n",
    "test = pd.read_csv('test.csv')"
   ]
  },
  {
   "cell_type": "markdown",
   "id": "52faa77f",
   "metadata": {},
   "source": [
    "* Feature engineering\n",
    "* issing values\n",
    "* one hot encoding"
   ]
  },
  {
   "cell_type": "code",
   "execution_count": 3,
   "id": "c5c6a465",
   "metadata": {},
   "outputs": [],
   "source": [
    "# combine the dataset\n",
    "combined = pd.concat([train,test],ignore_index=True)"
   ]
  },
  {
   "cell_type": "code",
   "execution_count": 4,
   "id": "179ef85d",
   "metadata": {},
   "outputs": [
    {
     "data": {
      "text/plain": [
       "Cabin          1014\n",
       "Survived        418\n",
       "Age             263\n",
       "Embarked          2\n",
       "Fare              1\n",
       "PassengerId       0\n",
       "Pclass            0\n",
       "Name              0\n",
       "Sex               0\n",
       "SibSp             0\n",
       "Parch             0\n",
       "Ticket            0\n",
       "dtype: int64"
      ]
     },
     "execution_count": 4,
     "metadata": {},
     "output_type": "execute_result"
    }
   ],
   "source": [
    "# checking the missing values\n",
    "combined.isnull().sum().sort_values(ascending=False)"
   ]
  },
  {
   "cell_type": "code",
   "execution_count": 5,
   "id": "6facd3ca",
   "metadata": {},
   "outputs": [
    {
     "data": {
      "text/html": [
       "<div>\n",
       "<style scoped>\n",
       "    .dataframe tbody tr th:only-of-type {\n",
       "        vertical-align: middle;\n",
       "    }\n",
       "\n",
       "    .dataframe tbody tr th {\n",
       "        vertical-align: top;\n",
       "    }\n",
       "\n",
       "    .dataframe thead th {\n",
       "        text-align: right;\n",
       "    }\n",
       "</style>\n",
       "<table border=\"1\" class=\"dataframe\">\n",
       "  <thead>\n",
       "    <tr style=\"text-align: right;\">\n",
       "      <th></th>\n",
       "      <th>PassengerId</th>\n",
       "      <th>Survived</th>\n",
       "      <th>Pclass</th>\n",
       "      <th>Name</th>\n",
       "      <th>Sex</th>\n",
       "      <th>Age</th>\n",
       "      <th>SibSp</th>\n",
       "      <th>Parch</th>\n",
       "      <th>Ticket</th>\n",
       "      <th>Fare</th>\n",
       "      <th>Cabin</th>\n",
       "      <th>Embarked</th>\n",
       "    </tr>\n",
       "  </thead>\n",
       "  <tbody>\n",
       "    <tr>\n",
       "      <th>0</th>\n",
       "      <td>1</td>\n",
       "      <td>0.0</td>\n",
       "      <td>3</td>\n",
       "      <td>Braund, Mr. Owen Harris</td>\n",
       "      <td>male</td>\n",
       "      <td>22.0</td>\n",
       "      <td>1</td>\n",
       "      <td>0</td>\n",
       "      <td>A/5 21171</td>\n",
       "      <td>7.2500</td>\n",
       "      <td>NaN</td>\n",
       "      <td>S</td>\n",
       "    </tr>\n",
       "    <tr>\n",
       "      <th>1</th>\n",
       "      <td>2</td>\n",
       "      <td>1.0</td>\n",
       "      <td>1</td>\n",
       "      <td>Cumings, Mrs. John Bradley (Florence Briggs Th...</td>\n",
       "      <td>female</td>\n",
       "      <td>38.0</td>\n",
       "      <td>1</td>\n",
       "      <td>0</td>\n",
       "      <td>PC 17599</td>\n",
       "      <td>71.2833</td>\n",
       "      <td>C85</td>\n",
       "      <td>C</td>\n",
       "    </tr>\n",
       "  </tbody>\n",
       "</table>\n",
       "</div>"
      ],
      "text/plain": [
       "   PassengerId  Survived  Pclass  \\\n",
       "0            1       0.0       3   \n",
       "1            2       1.0       1   \n",
       "\n",
       "                                                Name     Sex   Age  SibSp  \\\n",
       "0                            Braund, Mr. Owen Harris    male  22.0      1   \n",
       "1  Cumings, Mrs. John Bradley (Florence Briggs Th...  female  38.0      1   \n",
       "\n",
       "   Parch     Ticket     Fare Cabin Embarked  \n",
       "0      0  A/5 21171   7.2500   NaN        S  \n",
       "1      0   PC 17599  71.2833   C85        C  "
      ]
     },
     "execution_count": 5,
     "metadata": {},
     "output_type": "execute_result"
    }
   ],
   "source": [
    "combined.head(2)"
   ]
  },
  {
   "cell_type": "code",
   "execution_count": 6,
   "id": "eb233949",
   "metadata": {},
   "outputs": [
    {
     "data": {
      "text/plain": [
       "Index(['PassengerId', 'Survived', 'Pclass', 'Name', 'Sex', 'Age', 'SibSp',\n",
       "       'Parch', 'Ticket', 'Fare', 'Cabin', 'Embarked'],\n",
       "      dtype='object')"
      ]
     },
     "execution_count": 6,
     "metadata": {},
     "output_type": "execute_result"
    }
   ],
   "source": [
    "combined.columns\n"
   ]
  },
  {
   "cell_type": "code",
   "execution_count": 7,
   "id": "6b697f9b",
   "metadata": {},
   "outputs": [
    {
     "data": {
      "text/plain": [
       "array([nan, 'C85', 'C123', 'E46', 'G6', 'C103', 'D56', 'A6',\n",
       "       'C23 C25 C27', 'B78', 'D33', 'B30', 'C52', 'B28', 'C83', 'F33',\n",
       "       'F G73', 'E31', 'A5', 'D10 D12', 'D26', 'C110', 'B58 B60', 'E101',\n",
       "       'F E69', 'D47', 'B86', 'F2', 'C2', 'E33', 'B19', 'A7', 'C49', 'F4',\n",
       "       'A32', 'B4', 'B80', 'A31', 'D36', 'D15', 'C93', 'C78', 'D35',\n",
       "       'C87', 'B77', 'E67', 'B94', 'C125', 'C99', 'C118', 'D7', 'A19',\n",
       "       'B49', 'D', 'C22 C26', 'C106', 'C65', 'E36', 'C54',\n",
       "       'B57 B59 B63 B66', 'C7', 'E34', 'C32', 'B18', 'C124', 'C91', 'E40',\n",
       "       'T', 'C128', 'D37', 'B35', 'E50', 'C82', 'B96 B98', 'E10', 'E44',\n",
       "       'A34', 'C104', 'C111', 'C92', 'E38', 'D21', 'E12', 'E63', 'A14',\n",
       "       'B37', 'C30', 'D20', 'B79', 'E25', 'D46', 'B73', 'C95', 'B38',\n",
       "       'B39', 'B22', 'C86', 'C70', 'A16', 'C101', 'C68', 'A10', 'E68',\n",
       "       'B41', 'A20', 'D19', 'D50', 'D9', 'A23', 'B50', 'A26', 'D48',\n",
       "       'E58', 'C126', 'B71', 'B51 B53 B55', 'D49', 'B5', 'B20', 'F G63',\n",
       "       'C62 C64', 'E24', 'C90', 'C45', 'E8', 'B101', 'D45', 'C46', 'D30',\n",
       "       'E121', 'D11', 'E77', 'F38', 'B3', 'D6', 'B82 B84', 'D17', 'A36',\n",
       "       'B102', 'B69', 'E49', 'C47', 'D28', 'E17', 'A24', 'C50', 'B42',\n",
       "       'C148', 'B45', 'B36', 'A21', 'D34', 'A9', 'C31', 'B61', 'C53',\n",
       "       'D43', 'C130', 'C132', 'C55 C57', 'C116', 'F', 'A29', 'C6', 'C28',\n",
       "       'C51', 'C97', 'D22', 'B10', 'E45', 'E52', 'A11', 'B11', 'C80',\n",
       "       'C89', 'F E46', 'B26', 'F E57', 'A18', 'E60', 'E39 E41',\n",
       "       'B52 B54 B56', 'C39', 'B24', 'D40', 'D38', 'C105'], dtype=object)"
      ]
     },
     "execution_count": 7,
     "metadata": {},
     "output_type": "execute_result"
    }
   ],
   "source": [
    "combined['Cabin'].unique()"
   ]
  },
  {
   "cell_type": "code",
   "execution_count": 8,
   "id": "56652a94",
   "metadata": {},
   "outputs": [],
   "source": [
    "cabins = ['C85', 'C123', 'E46', 'G6', 'C103', 'D56', 'A6',\n",
    "       'C23 C25 C27', 'B78', 'D33', 'B30', 'C52', 'B28', 'C83', 'F33',\n",
    "       'F G73', 'E31', 'A5', 'D10 D12', 'D26', 'C110', 'B58 B60', 'E101',\n",
    "       'F E69', 'D47', 'B86', 'F2', 'C2', 'E33', 'B19', 'A7', 'C49', 'F4',\n",
    "       'A32', 'B4', 'B80', 'A31', 'D36', 'D15', 'C93', 'C78', 'D35',\n",
    "       'C87', 'B77', 'E67', 'B94', 'C125', 'C99', 'C118', 'D7', 'A19',\n",
    "       'B49', 'D', 'C22 C26', 'C106', 'C65', 'E36', 'C54',\n",
    "       'B57 B59 B63 B66', 'C7', 'E34', 'C32', 'B18', 'C124', 'C91', 'E40',\n",
    "       'T', 'C128', 'D37', 'B35', 'E50', 'C82', 'B96 B98', 'E10', 'E44',\n",
    "       'A34', 'C104', 'C111', 'C92', 'E38', 'D21', 'E12', 'E63', 'A14',\n",
    "       'B37', 'C30', 'D20', 'B79', 'E25', 'D46', 'B73', 'C95', 'B38',\n",
    "       'B39', 'B22', 'C86', 'C70', 'A16', 'C101', 'C68', 'A10', 'E68',\n",
    "       'B41', 'A20', 'D19', 'D50', 'D9', 'A23', 'B50', 'A26', 'D48',\n",
    "       'E58', 'C126', 'B71', 'B51 B53 B55', 'D49', 'B5', 'B20', 'F G63',\n",
    "       'C62 C64', 'E24', 'C90', 'C45', 'E8', 'B101', 'D45', 'C46', 'D30',\n",
    "       'E121', 'D11', 'E77', 'F38', 'B3', 'D6', 'B82 B84', 'D17', 'A36',\n",
    "       'B102', 'B69', 'E49', 'C47', 'D28', 'E17', 'A24', 'C50', 'B42',\n",
    "       'C148', 'B45', 'B36', 'A21', 'D34', 'A9', 'C31', 'B61', 'C53',\n",
    "       'D43', 'C130', 'C132', 'C55 C57', 'C116', 'F', 'A29', 'C6', 'C28',\n",
    "       'C51', 'C97', 'D22', 'B10', 'E45', 'E52', 'A11', 'B11', 'C80',\n",
    "       'C89', 'F E46', 'B26', 'F E57', 'A18', 'E60', 'E39 E41',\n",
    "       'B52 B54 B56', 'C39', 'B24', 'D40', 'D38', 'C105']"
   ]
  },
  {
   "cell_type": "code",
   "execution_count": 9,
   "id": "4606ba7c",
   "metadata": {},
   "outputs": [],
   "source": [
    "def cabin_labels(x):\n",
    "    if x in cabins:\n",
    "        return('cabin_avail')\n",
    "    else:\n",
    "        return('missing')"
   ]
  },
  {
   "cell_type": "code",
   "execution_count": 10,
   "id": "1fe8f036",
   "metadata": {},
   "outputs": [
    {
     "data": {
      "text/plain": [
       "Index(['PassengerId', 'Survived', 'Pclass', 'Name', 'Sex', 'Age', 'SibSp',\n",
       "       'Parch', 'Ticket', 'Fare', 'Cabin', 'Embarked'],\n",
       "      dtype='object')"
      ]
     },
     "execution_count": 10,
     "metadata": {},
     "output_type": "execute_result"
    }
   ],
   "source": [
    "combined.columns"
   ]
  },
  {
   "cell_type": "code",
   "execution_count": 11,
   "id": "43681701",
   "metadata": {},
   "outputs": [],
   "source": [
    "# Lets apply this on cabin column\n",
    "combined['cabin_cat'] = combined['Cabin'].apply(cabin_labels)"
   ]
  },
  {
   "cell_type": "code",
   "execution_count": 12,
   "id": "3eaf7a76",
   "metadata": {},
   "outputs": [
    {
     "data": {
      "text/html": [
       "<div>\n",
       "<style scoped>\n",
       "    .dataframe tbody tr th:only-of-type {\n",
       "        vertical-align: middle;\n",
       "    }\n",
       "\n",
       "    .dataframe tbody tr th {\n",
       "        vertical-align: top;\n",
       "    }\n",
       "\n",
       "    .dataframe thead th {\n",
       "        text-align: right;\n",
       "    }\n",
       "</style>\n",
       "<table border=\"1\" class=\"dataframe\">\n",
       "  <thead>\n",
       "    <tr style=\"text-align: right;\">\n",
       "      <th>cabin_cat</th>\n",
       "      <th>cabin_avail</th>\n",
       "      <th>missing</th>\n",
       "    </tr>\n",
       "    <tr>\n",
       "      <th>Survived</th>\n",
       "      <th></th>\n",
       "      <th></th>\n",
       "    </tr>\n",
       "  </thead>\n",
       "  <tbody>\n",
       "    <tr>\n",
       "      <th>0.0</th>\n",
       "      <td>68</td>\n",
       "      <td>481</td>\n",
       "    </tr>\n",
       "    <tr>\n",
       "      <th>1.0</th>\n",
       "      <td>136</td>\n",
       "      <td>206</td>\n",
       "    </tr>\n",
       "  </tbody>\n",
       "</table>\n",
       "</div>"
      ],
      "text/plain": [
       "cabin_cat  cabin_avail  missing\n",
       "Survived                       \n",
       "0.0                 68      481\n",
       "1.0                136      206"
      ]
     },
     "execution_count": 12,
     "metadata": {},
     "output_type": "execute_result"
    }
   ],
   "source": [
    "pd.crosstab(combined.Survived, combined.cabin_cat)"
   ]
  },
  {
   "cell_type": "markdown",
   "id": "c68e3aef",
   "metadata": {},
   "source": [
    "## Name"
   ]
  },
  {
   "cell_type": "code",
   "execution_count": 13,
   "id": "b3619883",
   "metadata": {},
   "outputs": [
    {
     "data": {
      "text/plain": [
       "'Mrs'"
      ]
     },
     "execution_count": 13,
     "metadata": {},
     "output_type": "execute_result"
    }
   ],
   "source": [
    "combined.Name[899].split(', ')[1].split('. ')[0]"
   ]
  },
  {
   "cell_type": "code",
   "execution_count": 14,
   "id": "23c80cb5",
   "metadata": {},
   "outputs": [
    {
     "data": {
      "text/plain": [
       "'Mrs'"
      ]
     },
     "execution_count": 14,
     "metadata": {},
     "output_type": "execute_result"
    }
   ],
   "source": [
    "combined.Name[899].split(', ')[1].split('. ')[0]"
   ]
  },
  {
   "cell_type": "code",
   "execution_count": 15,
   "id": "6bc4d128",
   "metadata": {},
   "outputs": [],
   "source": [
    "titless = []\n",
    "for i in combined.Name:\n",
    "    titless.append(i.split(', ')[1].split('. ')[0])"
   ]
  },
  {
   "cell_type": "code",
   "execution_count": 16,
   "id": "58f1c6c5",
   "metadata": {},
   "outputs": [],
   "source": [
    "combined['Titles']=pd.Series(titless)"
   ]
  },
  {
   "cell_type": "code",
   "execution_count": 17,
   "id": "40d135ed",
   "metadata": {},
   "outputs": [
    {
     "data": {
      "text/plain": [
       "array(['Mr', 'Mrs', 'Miss', 'Master', 'Don', 'Rev', 'Dr', 'Mme', 'Ms',\n",
       "       'Major', 'Lady', 'Sir', 'Mlle', 'Col', 'Capt', 'the Countess',\n",
       "       'Jonkheer', 'Dona'], dtype=object)"
      ]
     },
     "execution_count": 17,
     "metadata": {},
     "output_type": "execute_result"
    }
   ],
   "source": [
    "combined.Titles.unique()"
   ]
  },
  {
   "cell_type": "code",
   "execution_count": 18,
   "id": "085c1f07",
   "metadata": {},
   "outputs": [],
   "source": [
    "titles_ignore = ['Don', 'Rev', 'Dr', 'Mme',\n",
    "       'Major', 'Lady', 'Sir', 'Mlle', 'Col', 'Capt', 'the Countess',\n",
    "       'Jonkheer', 'Dona']\n",
    "\n",
    "def notitle(x):\n",
    "    if x in titles_ignore:\n",
    "        return('others')\n",
    "    else:\n",
    "        return(x)"
   ]
  },
  {
   "cell_type": "code",
   "execution_count": 19,
   "id": "887159ce",
   "metadata": {},
   "outputs": [],
   "source": [
    "combined['Titles'] = combined['Titles'].apply(notitle)"
   ]
  },
  {
   "cell_type": "code",
   "execution_count": 20,
   "id": "ed5cc188",
   "metadata": {},
   "outputs": [],
   "source": [
    "combined.drop(['PassengerId','Name','Cabin','Ticket'],axis = 1, inplace=True)"
   ]
  },
  {
   "cell_type": "markdown",
   "id": "59a6cb69",
   "metadata": {},
   "source": [
    "### Family"
   ]
  },
  {
   "cell_type": "code",
   "execution_count": 21,
   "id": "758320fc",
   "metadata": {},
   "outputs": [],
   "source": [
    "combined['Family'] = combined.SibSp+combined.Parch+1"
   ]
  },
  {
   "cell_type": "code",
   "execution_count": 22,
   "id": "1e849f3f",
   "metadata": {},
   "outputs": [],
   "source": [
    "def parivar(x):\n",
    "    if x == 1:\n",
    "        return('solo')\n",
    "    elif x ==2:\n",
    "        return('duo')\n",
    "    elif x<=4:\n",
    "        return('small')\n",
    "    else:\n",
    "        return('big')"
   ]
  },
  {
   "cell_type": "code",
   "execution_count": 23,
   "id": "0554e0c6",
   "metadata": {},
   "outputs": [],
   "source": [
    "combined['family_cat'] = combined.Family.apply(parivar)"
   ]
  },
  {
   "cell_type": "code",
   "execution_count": 24,
   "id": "44356deb",
   "metadata": {},
   "outputs": [
    {
     "data": {
      "text/html": [
       "<div>\n",
       "<style scoped>\n",
       "    .dataframe tbody tr th:only-of-type {\n",
       "        vertical-align: middle;\n",
       "    }\n",
       "\n",
       "    .dataframe tbody tr th {\n",
       "        vertical-align: top;\n",
       "    }\n",
       "\n",
       "    .dataframe thead th {\n",
       "        text-align: right;\n",
       "    }\n",
       "</style>\n",
       "<table border=\"1\" class=\"dataframe\">\n",
       "  <thead>\n",
       "    <tr style=\"text-align: right;\">\n",
       "      <th>Survived</th>\n",
       "      <th>0.0</th>\n",
       "      <th>1.0</th>\n",
       "    </tr>\n",
       "    <tr>\n",
       "      <th>family_cat</th>\n",
       "      <th></th>\n",
       "      <th></th>\n",
       "    </tr>\n",
       "  </thead>\n",
       "  <tbody>\n",
       "    <tr>\n",
       "      <th>big</th>\n",
       "      <td>52</td>\n",
       "      <td>10</td>\n",
       "    </tr>\n",
       "    <tr>\n",
       "      <th>duo</th>\n",
       "      <td>72</td>\n",
       "      <td>89</td>\n",
       "    </tr>\n",
       "    <tr>\n",
       "      <th>small</th>\n",
       "      <td>51</td>\n",
       "      <td>80</td>\n",
       "    </tr>\n",
       "    <tr>\n",
       "      <th>solo</th>\n",
       "      <td>374</td>\n",
       "      <td>163</td>\n",
       "    </tr>\n",
       "  </tbody>\n",
       "</table>\n",
       "</div>"
      ],
      "text/plain": [
       "Survived    0.0  1.0\n",
       "family_cat          \n",
       "big          52   10\n",
       "duo          72   89\n",
       "small        51   80\n",
       "solo        374  163"
      ]
     },
     "execution_count": 24,
     "metadata": {},
     "output_type": "execute_result"
    }
   ],
   "source": [
    "pd.crosstab(combined.family_cat, combined.Survived)"
   ]
  },
  {
   "cell_type": "code",
   "execution_count": 28,
   "id": "251dec82",
   "metadata": {},
   "outputs": [
    {
     "data": {
      "text/html": [
       "<div>\n",
       "<style scoped>\n",
       "    .dataframe tbody tr th:only-of-type {\n",
       "        vertical-align: middle;\n",
       "    }\n",
       "\n",
       "    .dataframe tbody tr th {\n",
       "        vertical-align: top;\n",
       "    }\n",
       "\n",
       "    .dataframe thead th {\n",
       "        text-align: right;\n",
       "    }\n",
       "</style>\n",
       "<table border=\"1\" class=\"dataframe\">\n",
       "  <thead>\n",
       "    <tr style=\"text-align: right;\">\n",
       "      <th>Titles</th>\n",
       "      <th>Master</th>\n",
       "      <th>Miss</th>\n",
       "      <th>Mr</th>\n",
       "      <th>Mrs</th>\n",
       "      <th>Ms</th>\n",
       "      <th>others</th>\n",
       "    </tr>\n",
       "  </thead>\n",
       "  <tbody>\n",
       "    <tr>\n",
       "      <th>count</th>\n",
       "      <td>53.000000</td>\n",
       "      <td>210.000000</td>\n",
       "      <td>581.000000</td>\n",
       "      <td>170.000000</td>\n",
       "      <td>1.0</td>\n",
       "      <td>31.000000</td>\n",
       "    </tr>\n",
       "    <tr>\n",
       "      <th>mean</th>\n",
       "      <td>5.482642</td>\n",
       "      <td>21.774238</td>\n",
       "      <td>32.252151</td>\n",
       "      <td>36.994118</td>\n",
       "      <td>28.0</td>\n",
       "      <td>43.129032</td>\n",
       "    </tr>\n",
       "    <tr>\n",
       "      <th>std</th>\n",
       "      <td>4.161554</td>\n",
       "      <td>12.249077</td>\n",
       "      <td>12.422089</td>\n",
       "      <td>12.901767</td>\n",
       "      <td>NaN</td>\n",
       "      <td>12.309189</td>\n",
       "    </tr>\n",
       "    <tr>\n",
       "      <th>min</th>\n",
       "      <td>0.330000</td>\n",
       "      <td>0.170000</td>\n",
       "      <td>11.000000</td>\n",
       "      <td>14.000000</td>\n",
       "      <td>28.0</td>\n",
       "      <td>23.000000</td>\n",
       "    </tr>\n",
       "    <tr>\n",
       "      <th>25%</th>\n",
       "      <td>2.000000</td>\n",
       "      <td>15.000000</td>\n",
       "      <td>23.000000</td>\n",
       "      <td>27.000000</td>\n",
       "      <td>28.0</td>\n",
       "      <td>32.500000</td>\n",
       "    </tr>\n",
       "    <tr>\n",
       "      <th>50%</th>\n",
       "      <td>4.000000</td>\n",
       "      <td>22.000000</td>\n",
       "      <td>29.000000</td>\n",
       "      <td>35.500000</td>\n",
       "      <td>28.0</td>\n",
       "      <td>45.000000</td>\n",
       "    </tr>\n",
       "    <tr>\n",
       "      <th>75%</th>\n",
       "      <td>9.000000</td>\n",
       "      <td>30.000000</td>\n",
       "      <td>39.000000</td>\n",
       "      <td>46.500000</td>\n",
       "      <td>28.0</td>\n",
       "      <td>52.500000</td>\n",
       "    </tr>\n",
       "    <tr>\n",
       "      <th>max</th>\n",
       "      <td>14.500000</td>\n",
       "      <td>63.000000</td>\n",
       "      <td>80.000000</td>\n",
       "      <td>76.000000</td>\n",
       "      <td>28.0</td>\n",
       "      <td>70.000000</td>\n",
       "    </tr>\n",
       "  </tbody>\n",
       "</table>\n",
       "</div>"
      ],
      "text/plain": [
       "Titles     Master        Miss          Mr         Mrs    Ms     others\n",
       "count   53.000000  210.000000  581.000000  170.000000   1.0  31.000000\n",
       "mean     5.482642   21.774238   32.252151   36.994118  28.0  43.129032\n",
       "std      4.161554   12.249077   12.422089   12.901767   NaN  12.309189\n",
       "min      0.330000    0.170000   11.000000   14.000000  28.0  23.000000\n",
       "25%      2.000000   15.000000   23.000000   27.000000  28.0  32.500000\n",
       "50%      4.000000   22.000000   29.000000   35.500000  28.0  45.000000\n",
       "75%      9.000000   30.000000   39.000000   46.500000  28.0  52.500000\n",
       "max     14.500000   63.000000   80.000000   76.000000  28.0  70.000000"
      ]
     },
     "execution_count": 28,
     "metadata": {},
     "output_type": "execute_result"
    }
   ],
   "source": [
    "combined.groupby(by = 'Titles')['Age'].describe().T"
   ]
  },
  {
   "cell_type": "markdown",
   "id": "ff18c679",
   "metadata": {},
   "source": [
    "### Missing values"
   ]
  },
  {
   "cell_type": "code",
   "execution_count": 33,
   "id": "264a9e23",
   "metadata": {},
   "outputs": [],
   "source": [
    "# treating the missing value in columns Age\n",
    "missing_titles = combined.loc[combined.Age.isnull()]['Titles'].unique()"
   ]
  },
  {
   "cell_type": "code",
   "execution_count": 41,
   "id": "9ce55bc5",
   "metadata": {},
   "outputs": [],
   "source": [
    "for i in missing_titles:\n",
    "    combined.loc[combined.Age.isnull(), 'Age'] = combined.loc[combined.Titles==i,'Age'].median()"
   ]
  },
  {
   "cell_type": "code",
   "execution_count": 51,
   "id": "fdabe230",
   "metadata": {},
   "outputs": [],
   "source": [
    "# Treating the missing value in column Embarked\n",
    "combined.loc[combined.Embarked.isnull(),'Embarked'] = combined.Embarked.mode()[0]"
   ]
  },
  {
   "cell_type": "code",
   "execution_count": 56,
   "id": "42d5c9d4",
   "metadata": {},
   "outputs": [],
   "source": [
    "# Missing the null values in Fare\n",
    "combined.loc[combined.Fare.isnull(),'Fare'] = combined.Fare.median()"
   ]
  },
  {
   "cell_type": "code",
   "execution_count": 58,
   "id": "79d58694",
   "metadata": {},
   "outputs": [
    {
     "data": {
      "text/plain": [
       "((891, 12), (418, 12))"
      ]
     },
     "execution_count": 58,
     "metadata": {},
     "output_type": "execute_result"
    }
   ],
   "source": [
    "# Split the data back in train and test\n",
    "newtrain = combined.loc[0:train.shape[0]-1, ]\n",
    "newtest = combined.loc[train.shape[0]:, ]\n",
    "\n",
    "newtrain.shape, newtest.shape"
   ]
  },
  {
   "cell_type": "code",
   "execution_count": 61,
   "id": "88d6872d",
   "metadata": {},
   "outputs": [],
   "source": [
    "# lets split the data in x and y\n",
    "X = newtrain.drop(['Survived'],axis = 1)\n",
    "y = newtrain.Survived.astype(int)\n",
    "\n",
    "newtest.drop(['Survived'],axis = 1, inplace = True)"
   ]
  },
  {
   "cell_type": "markdown",
   "id": "d1342a87",
   "metadata": {},
   "source": [
    "### Model building\n",
    "\n",
    "* The first model in classicfication which is alo known as base_model should be a prediction of 0"
   ]
  },
  {
   "cell_type": "code",
   "execution_count": 68,
   "id": "0eda5fd7",
   "metadata": {},
   "outputs": [],
   "source": [
    "submission = pd.DataFrame({'PassengerId':test.PassengerId,'Survived':0})\n",
    "\n",
    "submission.to_csv('basemodeltitanic.csv',index = False)"
   ]
  },
  {
   "cell_type": "code",
   "execution_count": 69,
   "id": "478cd19a",
   "metadata": {},
   "outputs": [
    {
     "name": "stdout",
     "output_type": "stream",
     "text": [
      "C:\\Users\\sidharth nandal\n"
     ]
    }
   ],
   "source": [
    "cd"
   ]
  },
  {
   "cell_type": "code",
   "execution_count": 71,
   "id": "c115c47b",
   "metadata": {},
   "outputs": [],
   "source": [
    "# dummify the data\n",
    "newX = pd.get_dummies(X, drop_first=True)\n",
    "newtest = pd.get_dummies(newtest,drop_first=True)"
   ]
  },
  {
   "cell_type": "code",
   "execution_count": 73,
   "id": "abb19ac3",
   "metadata": {},
   "outputs": [],
   "source": [
    "from sklearn.linear_model import LogisticRegression\n",
    "lg = LogisticRegression()\n",
    "pred = lg.fit(newX,y).predict(newtest)"
   ]
  },
  {
   "cell_type": "code",
   "execution_count": 82,
   "id": "aa7a985e",
   "metadata": {},
   "outputs": [],
   "source": [
    "submission = pd.DataFrame({'PassengerId':test.PassengerId,'Survived':pred})\n",
    "\n",
    "submission.to_csv('logistic_titanic.csv',index = False)   # 76.35"
   ]
  },
  {
   "cell_type": "code",
   "execution_count": 83,
   "id": "803c7cb1",
   "metadata": {},
   "outputs": [
    {
     "name": "stdout",
     "output_type": "stream",
     "text": [
      "C:\\Users\\sidharth nandal\n"
     ]
    }
   ],
   "source": [
    "cd"
   ]
  },
  {
   "cell_type": "markdown",
   "id": "c40b93f2",
   "metadata": {},
   "source": [
    "### Model metrics and evaluation\n",
    "* VIF \n",
    "* Logit Model\n",
    "* Interpretation of coefficients\n",
    "* Prediction using sigmoid\n",
    "* psuedo R2\n",
    "* Deviance \n",
    "* AIC"
   ]
  },
  {
   "cell_type": "code",
   "execution_count": 84,
   "id": "3f44b54e",
   "metadata": {},
   "outputs": [
    {
     "name": "stdout",
     "output_type": "stream",
     "text": [
      "Warning: Maximum number of iterations has been exceeded.\n",
      "         Current function value: 0.397365\n",
      "         Iterations: 35\n"
     ]
    },
    {
     "data": {
      "text/html": [
       "<table class=\"simpletable\">\n",
       "<caption>Logit Regression Results</caption>\n",
       "<tr>\n",
       "  <th>Dep. Variable:</th>       <td>Survived</td>     <th>  No. Observations:  </th>  <td>   891</td>  \n",
       "</tr>\n",
       "<tr>\n",
       "  <th>Model:</th>                 <td>Logit</td>      <th>  Df Residuals:      </th>  <td>   873</td>  \n",
       "</tr>\n",
       "<tr>\n",
       "  <th>Method:</th>                 <td>MLE</td>       <th>  Df Model:          </th>  <td>    17</td>  \n",
       "</tr>\n",
       "<tr>\n",
       "  <th>Date:</th>            <td>Sun, 10 Dec 2023</td> <th>  Pseudo R-squ.:     </th>  <td>0.4033</td>  \n",
       "</tr>\n",
       "<tr>\n",
       "  <th>Time:</th>                <td>00:46:31</td>     <th>  Log-Likelihood:    </th> <td> -354.05</td> \n",
       "</tr>\n",
       "<tr>\n",
       "  <th>converged:</th>             <td>False</td>      <th>  LL-Null:           </th> <td> -593.33</td> \n",
       "</tr>\n",
       "<tr>\n",
       "  <th>Covariance Type:</th>     <td>nonrobust</td>    <th>  LLR p-value:       </th> <td>6.198e-91</td>\n",
       "</tr>\n",
       "</table>\n",
       "<table class=\"simpletable\">\n",
       "<tr>\n",
       "          <td></td>             <th>coef</th>     <th>std err</th>      <th>z</th>      <th>P>|z|</th>  <th>[0.025</th>    <th>0.975]</th>  \n",
       "</tr>\n",
       "<tr>\n",
       "  <th>Pclass</th>            <td>   -0.8026</td> <td>    0.187</td> <td>   -4.292</td> <td> 0.000</td> <td>   -1.169</td> <td>   -0.436</td>\n",
       "</tr>\n",
       "<tr>\n",
       "  <th>Age</th>               <td>   -0.0234</td> <td>    0.009</td> <td>   -2.505</td> <td> 0.012</td> <td>   -0.042</td> <td>   -0.005</td>\n",
       "</tr>\n",
       "<tr>\n",
       "  <th>SibSp</th>             <td>  -27.5495</td> <td> 1.15e+05</td> <td>   -0.000</td> <td> 1.000</td> <td>-2.25e+05</td> <td> 2.25e+05</td>\n",
       "</tr>\n",
       "<tr>\n",
       "  <th>Parch</th>             <td>  -27.4419</td> <td> 1.15e+05</td> <td>   -0.000</td> <td> 1.000</td> <td>-2.25e+05</td> <td> 2.25e+05</td>\n",
       "</tr>\n",
       "<tr>\n",
       "  <th>Fare</th>              <td>    0.0034</td> <td>    0.003</td> <td>    1.314</td> <td> 0.189</td> <td>   -0.002</td> <td>    0.009</td>\n",
       "</tr>\n",
       "<tr>\n",
       "  <th>Family</th>            <td>   27.4698</td> <td> 1.15e+05</td> <td>    0.000</td> <td> 1.000</td> <td>-2.25e+05</td> <td> 2.25e+05</td>\n",
       "</tr>\n",
       "<tr>\n",
       "  <th>Sex_male</th>          <td>  -25.2262</td> <td> 1.15e+05</td> <td>   -0.000</td> <td> 1.000</td> <td>-2.25e+05</td> <td> 2.25e+05</td>\n",
       "</tr>\n",
       "<tr>\n",
       "  <th>Embarked_Q</th>        <td>    0.0330</td> <td>    0.401</td> <td>    0.082</td> <td> 0.935</td> <td>   -0.754</td> <td>    0.819</td>\n",
       "</tr>\n",
       "<tr>\n",
       "  <th>Embarked_S</th>        <td>   -0.3189</td> <td>    0.254</td> <td>   -1.256</td> <td> 0.209</td> <td>   -0.816</td> <td>    0.179</td>\n",
       "</tr>\n",
       "<tr>\n",
       "  <th>cabin_cat_missing</th> <td>   -0.6404</td> <td>    0.322</td> <td>   -1.991</td> <td> 0.047</td> <td>   -1.271</td> <td>   -0.010</td>\n",
       "</tr>\n",
       "<tr>\n",
       "  <th>Titles_Miss</th>       <td>  -25.8918</td> <td> 1.15e+05</td> <td>   -0.000</td> <td> 1.000</td> <td>-2.25e+05</td> <td> 2.25e+05</td>\n",
       "</tr>\n",
       "<tr>\n",
       "  <th>Titles_Mr</th>         <td>   -3.5874</td> <td>    0.598</td> <td>   -6.003</td> <td> 0.000</td> <td>   -4.759</td> <td>   -2.416</td>\n",
       "</tr>\n",
       "<tr>\n",
       "  <th>Titles_Mrs</th>        <td>  -25.2120</td> <td> 1.15e+05</td> <td>   -0.000</td> <td> 1.000</td> <td>-2.25e+05</td> <td> 2.25e+05</td>\n",
       "</tr>\n",
       "<tr>\n",
       "  <th>Titles_Ms</th>         <td>  -11.6452</td> <td> 1.15e+05</td> <td>   -0.000</td> <td> 1.000</td> <td>-2.25e+05</td> <td> 2.25e+05</td>\n",
       "</tr>\n",
       "<tr>\n",
       "  <th>Titles_others</th>     <td>   -3.5582</td> <td>    0.824</td> <td>   -4.316</td> <td> 0.000</td> <td>   -5.174</td> <td>   -1.942</td>\n",
       "</tr>\n",
       "<tr>\n",
       "  <th>family_cat_duo</th>    <td>    2.5015</td> <td>    1.291</td> <td>    1.937</td> <td> 0.053</td> <td>   -0.029</td> <td>    5.032</td>\n",
       "</tr>\n",
       "<tr>\n",
       "  <th>family_cat_small</th>  <td>    2.6466</td> <td>    0.974</td> <td>    2.717</td> <td> 0.007</td> <td>    0.737</td> <td>    4.556</td>\n",
       "</tr>\n",
       "<tr>\n",
       "  <th>family_cat_solo</th>   <td>    2.8819</td> <td>    1.536</td> <td>    1.877</td> <td> 0.061</td> <td>   -0.128</td> <td>    5.892</td>\n",
       "</tr>\n",
       "</table>"
      ],
      "text/plain": [
       "<class 'statsmodels.iolib.summary.Summary'>\n",
       "\"\"\"\n",
       "                           Logit Regression Results                           \n",
       "==============================================================================\n",
       "Dep. Variable:               Survived   No. Observations:                  891\n",
       "Model:                          Logit   Df Residuals:                      873\n",
       "Method:                           MLE   Df Model:                           17\n",
       "Date:                Sun, 10 Dec 2023   Pseudo R-squ.:                  0.4033\n",
       "Time:                        00:46:31   Log-Likelihood:                -354.05\n",
       "converged:                      False   LL-Null:                       -593.33\n",
       "Covariance Type:            nonrobust   LLR p-value:                 6.198e-91\n",
       "=====================================================================================\n",
       "                        coef    std err          z      P>|z|      [0.025      0.975]\n",
       "-------------------------------------------------------------------------------------\n",
       "Pclass               -0.8026      0.187     -4.292      0.000      -1.169      -0.436\n",
       "Age                  -0.0234      0.009     -2.505      0.012      -0.042      -0.005\n",
       "SibSp               -27.5495   1.15e+05     -0.000      1.000   -2.25e+05    2.25e+05\n",
       "Parch               -27.4419   1.15e+05     -0.000      1.000   -2.25e+05    2.25e+05\n",
       "Fare                  0.0034      0.003      1.314      0.189      -0.002       0.009\n",
       "Family               27.4698   1.15e+05      0.000      1.000   -2.25e+05    2.25e+05\n",
       "Sex_male            -25.2262   1.15e+05     -0.000      1.000   -2.25e+05    2.25e+05\n",
       "Embarked_Q            0.0330      0.401      0.082      0.935      -0.754       0.819\n",
       "Embarked_S           -0.3189      0.254     -1.256      0.209      -0.816       0.179\n",
       "cabin_cat_missing    -0.6404      0.322     -1.991      0.047      -1.271      -0.010\n",
       "Titles_Miss         -25.8918   1.15e+05     -0.000      1.000   -2.25e+05    2.25e+05\n",
       "Titles_Mr            -3.5874      0.598     -6.003      0.000      -4.759      -2.416\n",
       "Titles_Mrs          -25.2120   1.15e+05     -0.000      1.000   -2.25e+05    2.25e+05\n",
       "Titles_Ms           -11.6452   1.15e+05     -0.000      1.000   -2.25e+05    2.25e+05\n",
       "Titles_others        -3.5582      0.824     -4.316      0.000      -5.174      -1.942\n",
       "family_cat_duo        2.5015      1.291      1.937      0.053      -0.029       5.032\n",
       "family_cat_small      2.6466      0.974      2.717      0.007       0.737       4.556\n",
       "family_cat_solo       2.8819      1.536      1.877      0.061      -0.128       5.892\n",
       "=====================================================================================\n",
       "\"\"\""
      ]
     },
     "execution_count": 84,
     "metadata": {},
     "output_type": "execute_result"
    }
   ],
   "source": [
    "import statsmodels.api as sma\n",
    "\n",
    "model = sma.Logit(y, newX).fit()\n",
    "model.summary()"
   ]
  },
  {
   "cell_type": "markdown",
   "id": "29f72a1a",
   "metadata": {},
   "source": [
    "### Basic Inference on the output\n",
    "* There are lot of features which have a very high pvalue which indidcates the feature are statistically insignificant\n",
    "\n",
    "* This also indicates that there is lot of multicolinearity between the categorical feature\n",
    "\n",
    "* warning also suggest that the model os not a good model because ML;E could not help converge the sigmoid curve"
   ]
  },
  {
   "cell_type": "code",
   "execution_count": 90,
   "id": "5b7f3cc5",
   "metadata": {},
   "outputs": [
    {
     "data": {
      "text/html": [
       "<div>\n",
       "<style scoped>\n",
       "    .dataframe tbody tr th:only-of-type {\n",
       "        vertical-align: middle;\n",
       "    }\n",
       "\n",
       "    .dataframe tbody tr th {\n",
       "        vertical-align: top;\n",
       "    }\n",
       "\n",
       "    .dataframe thead th {\n",
       "        text-align: right;\n",
       "    }\n",
       "</style>\n",
       "<table border=\"1\" class=\"dataframe\">\n",
       "  <thead>\n",
       "    <tr style=\"text-align: right;\">\n",
       "      <th></th>\n",
       "      <th>Value</th>\n",
       "    </tr>\n",
       "  </thead>\n",
       "  <tbody>\n",
       "    <tr>\n",
       "      <th>Family</th>\n",
       "      <td>2456.421885</td>\n",
       "    </tr>\n",
       "    <tr>\n",
       "      <th>SibSp</th>\n",
       "      <td>659.557404</td>\n",
       "    </tr>\n",
       "    <tr>\n",
       "      <th>Parch</th>\n",
       "      <td>367.754852</td>\n",
       "    </tr>\n",
       "    <tr>\n",
       "      <th>Sex_male</th>\n",
       "      <td>45.570269</td>\n",
       "    </tr>\n",
       "    <tr>\n",
       "      <th>family_cat_solo</th>\n",
       "      <td>40.915948</td>\n",
       "    </tr>\n",
       "    <tr>\n",
       "      <th>Titles_Miss</th>\n",
       "      <td>38.104557</td>\n",
       "    </tr>\n",
       "    <tr>\n",
       "      <th>Titles_Mrs</th>\n",
       "      <td>29.624656</td>\n",
       "    </tr>\n",
       "    <tr>\n",
       "      <th>family_cat_duo</th>\n",
       "      <td>19.136682</td>\n",
       "    </tr>\n",
       "    <tr>\n",
       "      <th>family_cat_small</th>\n",
       "      <td>9.467517</td>\n",
       "    </tr>\n",
       "    <tr>\n",
       "      <th>Titles_Mr</th>\n",
       "      <td>8.477798</td>\n",
       "    </tr>\n",
       "    <tr>\n",
       "      <th>Pclass</th>\n",
       "      <td>2.887608</td>\n",
       "    </tr>\n",
       "    <tr>\n",
       "      <th>Titles_others</th>\n",
       "      <td>2.375225</td>\n",
       "    </tr>\n",
       "    <tr>\n",
       "      <th>cabin_cat_missing</th>\n",
       "      <td>2.228914</td>\n",
       "    </tr>\n",
       "    <tr>\n",
       "      <th>Fare</th>\n",
       "      <td>1.716397</td>\n",
       "    </tr>\n",
       "    <tr>\n",
       "      <th>Age</th>\n",
       "      <td>1.564016</td>\n",
       "    </tr>\n",
       "    <tr>\n",
       "      <th>Embarked_Q</th>\n",
       "      <td>1.546592</td>\n",
       "    </tr>\n",
       "    <tr>\n",
       "      <th>Embarked_S</th>\n",
       "      <td>1.495120</td>\n",
       "    </tr>\n",
       "    <tr>\n",
       "      <th>Titles_Ms</th>\n",
       "      <td>1.269940</td>\n",
       "    </tr>\n",
       "  </tbody>\n",
       "</table>\n",
       "</div>"
      ],
      "text/plain": [
       "                         Value\n",
       "Family             2456.421885\n",
       "SibSp               659.557404\n",
       "Parch               367.754852\n",
       "Sex_male             45.570269\n",
       "family_cat_solo      40.915948\n",
       "Titles_Miss          38.104557\n",
       "Titles_Mrs           29.624656\n",
       "family_cat_duo       19.136682\n",
       "family_cat_small      9.467517\n",
       "Titles_Mr             8.477798\n",
       "Pclass                2.887608\n",
       "Titles_others         2.375225\n",
       "cabin_cat_missing     2.228914\n",
       "Fare                  1.716397\n",
       "Age                   1.564016\n",
       "Embarked_Q            1.546592\n",
       "Embarked_S            1.495120\n",
       "Titles_Ms             1.269940"
      ]
     },
     "execution_count": 90,
     "metadata": {},
     "output_type": "execute_result"
    }
   ],
   "source": [
    "# Lets apply VIF on newx\n",
    "# note- cramerv to find corelation between categorical features\n",
    "\n",
    "from statsmodels.stats.outliers_influence import variance_inflation_factor\n",
    "\n",
    "vif = []\n",
    "\n",
    "for i in range(newX.shape[1]):\n",
    "    vif.append(variance_inflation_factor(newX.values, i))\n",
    "    \n",
    "pd.DataFrame(vif, columns = ['Value'], index = newX.columns).sort_values(ascending = False, by ='Value')"
   ]
  },
  {
   "cell_type": "code",
   "execution_count": 91,
   "id": "2fdec062",
   "metadata": {},
   "outputs": [],
   "source": [
    "# dropping some columns to remove the multicolinearity\n",
    "\n",
    "subset = newX.drop(['SibSp','Parch','Titles_Mr'], axis = 1)"
   ]
  },
  {
   "cell_type": "code",
   "execution_count": 92,
   "id": "778a6d09",
   "metadata": {},
   "outputs": [
    {
     "name": "stdout",
     "output_type": "stream",
     "text": [
      "Warning: Maximum number of iterations has been exceeded.\n",
      "         Current function value: 0.423569\n",
      "         Iterations: 35\n"
     ]
    },
    {
     "data": {
      "text/html": [
       "<table class=\"simpletable\">\n",
       "<caption>Logit Regression Results</caption>\n",
       "<tr>\n",
       "  <th>Dep. Variable:</th>       <td>Survived</td>     <th>  No. Observations:  </th>  <td>   891</td>  \n",
       "</tr>\n",
       "<tr>\n",
       "  <th>Model:</th>                 <td>Logit</td>      <th>  Df Residuals:      </th>  <td>   876</td>  \n",
       "</tr>\n",
       "<tr>\n",
       "  <th>Method:</th>                 <td>MLE</td>       <th>  Df Model:          </th>  <td>    14</td>  \n",
       "</tr>\n",
       "<tr>\n",
       "  <th>Date:</th>            <td>Sun, 10 Dec 2023</td> <th>  Pseudo R-squ.:     </th>  <td>0.3639</td>  \n",
       "</tr>\n",
       "<tr>\n",
       "  <th>Time:</th>                <td>01:20:44</td>     <th>  Log-Likelihood:    </th> <td> -377.40</td> \n",
       "</tr>\n",
       "<tr>\n",
       "  <th>converged:</th>             <td>False</td>      <th>  LL-Null:           </th> <td> -593.33</td> \n",
       "</tr>\n",
       "<tr>\n",
       "  <th>Covariance Type:</th>     <td>nonrobust</td>    <th>  LLR p-value:       </th> <td>2.424e-83</td>\n",
       "</tr>\n",
       "</table>\n",
       "<table class=\"simpletable\">\n",
       "<tr>\n",
       "          <td></td>             <th>coef</th>     <th>std err</th>      <th>z</th>      <th>P>|z|</th>  <th>[0.025</th>    <th>0.975]</th>  \n",
       "</tr>\n",
       "<tr>\n",
       "  <th>Pclass</th>            <td>   -0.7468</td> <td>    0.177</td> <td>   -4.226</td> <td> 0.000</td> <td>   -1.093</td> <td>   -0.400</td>\n",
       "</tr>\n",
       "<tr>\n",
       "  <th>Age</th>               <td>   -0.0419</td> <td>    0.009</td> <td>   -4.747</td> <td> 0.000</td> <td>   -0.059</td> <td>   -0.025</td>\n",
       "</tr>\n",
       "<tr>\n",
       "  <th>Fare</th>              <td>    0.0028</td> <td>    0.002</td> <td>    1.159</td> <td> 0.246</td> <td>   -0.002</td> <td>    0.007</td>\n",
       "</tr>\n",
       "<tr>\n",
       "  <th>Family</th>            <td>    0.2379</td> <td>    0.157</td> <td>    1.513</td> <td> 0.130</td> <td>   -0.070</td> <td>    0.546</td>\n",
       "</tr>\n",
       "<tr>\n",
       "  <th>Sex_male</th>          <td>   -1.7152</td> <td>    1.040</td> <td>   -1.650</td> <td> 0.099</td> <td>   -3.753</td> <td>    0.322</td>\n",
       "</tr>\n",
       "<tr>\n",
       "  <th>Embarked_Q</th>        <td>    0.1628</td> <td>    0.390</td> <td>    0.417</td> <td> 0.676</td> <td>   -0.602</td> <td>    0.927</td>\n",
       "</tr>\n",
       "<tr>\n",
       "  <th>Embarked_S</th>        <td>   -0.2965</td> <td>    0.244</td> <td>   -1.213</td> <td> 0.225</td> <td>   -0.776</td> <td>    0.183</td>\n",
       "</tr>\n",
       "<tr>\n",
       "  <th>cabin_cat_missing</th> <td>   -0.7675</td> <td>    0.309</td> <td>   -2.484</td> <td> 0.013</td> <td>   -1.373</td> <td>   -0.162</td>\n",
       "</tr>\n",
       "<tr>\n",
       "  <th>Titles_Miss</th>       <td>    0.7279</td> <td>    1.059</td> <td>    0.687</td> <td> 0.492</td> <td>   -1.348</td> <td>    2.804</td>\n",
       "</tr>\n",
       "<tr>\n",
       "  <th>Titles_Mrs</th>        <td>    1.5553</td> <td>    1.085</td> <td>    1.433</td> <td> 0.152</td> <td>   -0.572</td> <td>    3.683</td>\n",
       "</tr>\n",
       "<tr>\n",
       "  <th>Titles_Ms</th>         <td>   21.2730</td> <td> 4.64e+04</td> <td>    0.000</td> <td> 1.000</td> <td>-9.09e+04</td> <td>  9.1e+04</td>\n",
       "</tr>\n",
       "<tr>\n",
       "  <th>Titles_others</th>     <td>    0.2715</td> <td>    0.538</td> <td>    0.505</td> <td> 0.614</td> <td>   -0.782</td> <td>    1.325</td>\n",
       "</tr>\n",
       "<tr>\n",
       "  <th>family_cat_duo</th>    <td>    3.1949</td> <td>    0.788</td> <td>    4.056</td> <td> 0.000</td> <td>    1.651</td> <td>    4.739</td>\n",
       "</tr>\n",
       "<tr>\n",
       "  <th>family_cat_small</th>  <td>    3.4625</td> <td>    0.659</td> <td>    5.255</td> <td> 0.000</td> <td>    2.171</td> <td>    4.754</td>\n",
       "</tr>\n",
       "<tr>\n",
       "  <th>family_cat_solo</th>   <td>    3.6750</td> <td>    0.917</td> <td>    4.006</td> <td> 0.000</td> <td>    1.877</td> <td>    5.473</td>\n",
       "</tr>\n",
       "</table>"
      ],
      "text/plain": [
       "<class 'statsmodels.iolib.summary.Summary'>\n",
       "\"\"\"\n",
       "                           Logit Regression Results                           \n",
       "==============================================================================\n",
       "Dep. Variable:               Survived   No. Observations:                  891\n",
       "Model:                          Logit   Df Residuals:                      876\n",
       "Method:                           MLE   Df Model:                           14\n",
       "Date:                Sun, 10 Dec 2023   Pseudo R-squ.:                  0.3639\n",
       "Time:                        01:20:44   Log-Likelihood:                -377.40\n",
       "converged:                      False   LL-Null:                       -593.33\n",
       "Covariance Type:            nonrobust   LLR p-value:                 2.424e-83\n",
       "=====================================================================================\n",
       "                        coef    std err          z      P>|z|      [0.025      0.975]\n",
       "-------------------------------------------------------------------------------------\n",
       "Pclass               -0.7468      0.177     -4.226      0.000      -1.093      -0.400\n",
       "Age                  -0.0419      0.009     -4.747      0.000      -0.059      -0.025\n",
       "Fare                  0.0028      0.002      1.159      0.246      -0.002       0.007\n",
       "Family                0.2379      0.157      1.513      0.130      -0.070       0.546\n",
       "Sex_male             -1.7152      1.040     -1.650      0.099      -3.753       0.322\n",
       "Embarked_Q            0.1628      0.390      0.417      0.676      -0.602       0.927\n",
       "Embarked_S           -0.2965      0.244     -1.213      0.225      -0.776       0.183\n",
       "cabin_cat_missing    -0.7675      0.309     -2.484      0.013      -1.373      -0.162\n",
       "Titles_Miss           0.7279      1.059      0.687      0.492      -1.348       2.804\n",
       "Titles_Mrs            1.5553      1.085      1.433      0.152      -0.572       3.683\n",
       "Titles_Ms            21.2730   4.64e+04      0.000      1.000   -9.09e+04     9.1e+04\n",
       "Titles_others         0.2715      0.538      0.505      0.614      -0.782       1.325\n",
       "family_cat_duo        3.1949      0.788      4.056      0.000       1.651       4.739\n",
       "family_cat_small      3.4625      0.659      5.255      0.000       2.171       4.754\n",
       "family_cat_solo       3.6750      0.917      4.006      0.000       1.877       5.473\n",
       "=====================================================================================\n",
       "\"\"\""
      ]
     },
     "execution_count": 92,
     "metadata": {},
     "output_type": "execute_result"
    }
   ],
   "source": [
    "# Lets rebuild the model\n",
    "model = sma.Logit(y, subset).fit()\n",
    "model.summary()"
   ]
  },
  {
   "cell_type": "markdown",
   "id": "0c1c7276",
   "metadata": {},
   "source": [
    "### Lets remove the high pvalue feature"
   ]
  },
  {
   "cell_type": "code",
   "execution_count": 97,
   "id": "dce662a9",
   "metadata": {},
   "outputs": [],
   "source": [
    "local_df = pd.DataFrame(model.pvalues, columns = ['pvalues']).reset_index()"
   ]
  },
  {
   "cell_type": "code",
   "execution_count": 139,
   "id": "8b58a579",
   "metadata": {},
   "outputs": [],
   "source": [
    "feats = list(local_df.loc[local_df['pvalues']<0.05,'index'])"
   ]
  },
  {
   "cell_type": "code",
   "execution_count": 140,
   "id": "ca518a86",
   "metadata": {},
   "outputs": [],
   "source": [
    "feats = ['Pclass','Fare',\n",
    " 'Age','Family',\n",
    " 'cabin_cat_missing',\n",
    " 'family_cat_duo',\n",
    " 'family_cat_small',\n",
    " 'family_cat_solo']"
   ]
  },
  {
   "cell_type": "code",
   "execution_count": 138,
   "id": "cef472ec",
   "metadata": {},
   "outputs": [
    {
     "data": {
      "text/html": [
       "<div>\n",
       "<style scoped>\n",
       "    .dataframe tbody tr th:only-of-type {\n",
       "        vertical-align: middle;\n",
       "    }\n",
       "\n",
       "    .dataframe tbody tr th {\n",
       "        vertical-align: top;\n",
       "    }\n",
       "\n",
       "    .dataframe thead th {\n",
       "        text-align: right;\n",
       "    }\n",
       "</style>\n",
       "<table border=\"1\" class=\"dataframe\">\n",
       "  <thead>\n",
       "    <tr style=\"text-align: right;\">\n",
       "      <th></th>\n",
       "      <th>Pclass</th>\n",
       "      <th>Fare</th>\n",
       "      <th>Age</th>\n",
       "      <th>Family</th>\n",
       "      <th>cabin_cat_missing</th>\n",
       "      <th>family_cat_duo</th>\n",
       "      <th>family_cat_small</th>\n",
       "      <th>family_cat_solo</th>\n",
       "    </tr>\n",
       "  </thead>\n",
       "  <tbody>\n",
       "    <tr>\n",
       "      <th>0</th>\n",
       "      <td>3</td>\n",
       "      <td>7.2500</td>\n",
       "      <td>22.0</td>\n",
       "      <td>2</td>\n",
       "      <td>1</td>\n",
       "      <td>1</td>\n",
       "      <td>0</td>\n",
       "      <td>0</td>\n",
       "    </tr>\n",
       "    <tr>\n",
       "      <th>1</th>\n",
       "      <td>1</td>\n",
       "      <td>71.2833</td>\n",
       "      <td>38.0</td>\n",
       "      <td>2</td>\n",
       "      <td>0</td>\n",
       "      <td>1</td>\n",
       "      <td>0</td>\n",
       "      <td>0</td>\n",
       "    </tr>\n",
       "    <tr>\n",
       "      <th>2</th>\n",
       "      <td>3</td>\n",
       "      <td>7.9250</td>\n",
       "      <td>26.0</td>\n",
       "      <td>1</td>\n",
       "      <td>1</td>\n",
       "      <td>0</td>\n",
       "      <td>0</td>\n",
       "      <td>1</td>\n",
       "    </tr>\n",
       "    <tr>\n",
       "      <th>3</th>\n",
       "      <td>1</td>\n",
       "      <td>53.1000</td>\n",
       "      <td>35.0</td>\n",
       "      <td>2</td>\n",
       "      <td>0</td>\n",
       "      <td>1</td>\n",
       "      <td>0</td>\n",
       "      <td>0</td>\n",
       "    </tr>\n",
       "    <tr>\n",
       "      <th>4</th>\n",
       "      <td>3</td>\n",
       "      <td>8.0500</td>\n",
       "      <td>35.0</td>\n",
       "      <td>1</td>\n",
       "      <td>1</td>\n",
       "      <td>0</td>\n",
       "      <td>0</td>\n",
       "      <td>1</td>\n",
       "    </tr>\n",
       "    <tr>\n",
       "      <th>...</th>\n",
       "      <td>...</td>\n",
       "      <td>...</td>\n",
       "      <td>...</td>\n",
       "      <td>...</td>\n",
       "      <td>...</td>\n",
       "      <td>...</td>\n",
       "      <td>...</td>\n",
       "      <td>...</td>\n",
       "    </tr>\n",
       "    <tr>\n",
       "      <th>886</th>\n",
       "      <td>2</td>\n",
       "      <td>13.0000</td>\n",
       "      <td>27.0</td>\n",
       "      <td>1</td>\n",
       "      <td>1</td>\n",
       "      <td>0</td>\n",
       "      <td>0</td>\n",
       "      <td>1</td>\n",
       "    </tr>\n",
       "    <tr>\n",
       "      <th>887</th>\n",
       "      <td>1</td>\n",
       "      <td>30.0000</td>\n",
       "      <td>19.0</td>\n",
       "      <td>1</td>\n",
       "      <td>0</td>\n",
       "      <td>0</td>\n",
       "      <td>0</td>\n",
       "      <td>1</td>\n",
       "    </tr>\n",
       "    <tr>\n",
       "      <th>888</th>\n",
       "      <td>3</td>\n",
       "      <td>23.4500</td>\n",
       "      <td>29.0</td>\n",
       "      <td>4</td>\n",
       "      <td>1</td>\n",
       "      <td>0</td>\n",
       "      <td>1</td>\n",
       "      <td>0</td>\n",
       "    </tr>\n",
       "    <tr>\n",
       "      <th>889</th>\n",
       "      <td>1</td>\n",
       "      <td>30.0000</td>\n",
       "      <td>26.0</td>\n",
       "      <td>1</td>\n",
       "      <td>0</td>\n",
       "      <td>0</td>\n",
       "      <td>0</td>\n",
       "      <td>1</td>\n",
       "    </tr>\n",
       "    <tr>\n",
       "      <th>890</th>\n",
       "      <td>3</td>\n",
       "      <td>7.7500</td>\n",
       "      <td>32.0</td>\n",
       "      <td>1</td>\n",
       "      <td>1</td>\n",
       "      <td>0</td>\n",
       "      <td>0</td>\n",
       "      <td>1</td>\n",
       "    </tr>\n",
       "  </tbody>\n",
       "</table>\n",
       "<p>891 rows × 8 columns</p>\n",
       "</div>"
      ],
      "text/plain": [
       "     Pclass     Fare   Age  Family  cabin_cat_missing  family_cat_duo  \\\n",
       "0         3   7.2500  22.0       2                  1               1   \n",
       "1         1  71.2833  38.0       2                  0               1   \n",
       "2         3   7.9250  26.0       1                  1               0   \n",
       "3         1  53.1000  35.0       2                  0               1   \n",
       "4         3   8.0500  35.0       1                  1               0   \n",
       "..      ...      ...   ...     ...                ...             ...   \n",
       "886       2  13.0000  27.0       1                  1               0   \n",
       "887       1  30.0000  19.0       1                  0               0   \n",
       "888       3  23.4500  29.0       4                  1               0   \n",
       "889       1  30.0000  26.0       1                  0               0   \n",
       "890       3   7.7500  32.0       1                  1               0   \n",
       "\n",
       "     family_cat_small  family_cat_solo  \n",
       "0                   0                0  \n",
       "1                   0                0  \n",
       "2                   0                1  \n",
       "3                   0                0  \n",
       "4                   0                1  \n",
       "..                ...              ...  \n",
       "886                 0                1  \n",
       "887                 0                1  \n",
       "888                 1                0  \n",
       "889                 0                1  \n",
       "890                 0                1  \n",
       "\n",
       "[891 rows x 8 columns]"
      ]
     },
     "execution_count": 138,
     "metadata": {},
     "output_type": "execute_result"
    }
   ],
   "source": [
    "# model of important features\n",
    "newfeats = subset.loc[:, feats]\n",
    "newfeats"
   ]
  },
  {
   "cell_type": "code",
   "execution_count": 137,
   "id": "68b9902f",
   "metadata": {},
   "outputs": [
    {
     "name": "stdout",
     "output_type": "stream",
     "text": [
      "Optimization terminated successfully.\n",
      "         Current function value: 0.557573\n",
      "         Iterations 6\n"
     ]
    },
    {
     "data": {
      "text/html": [
       "<table class=\"simpletable\">\n",
       "<caption>Logit Regression Results</caption>\n",
       "<tr>\n",
       "  <th>Dep. Variable:</th>       <td>Survived</td>     <th>  No. Observations:  </th>  <td>   891</td>  \n",
       "</tr>\n",
       "<tr>\n",
       "  <th>Model:</th>                 <td>Logit</td>      <th>  Df Residuals:      </th>  <td>   883</td>  \n",
       "</tr>\n",
       "<tr>\n",
       "  <th>Method:</th>                 <td>MLE</td>       <th>  Df Model:          </th>  <td>     7</td>  \n",
       "</tr>\n",
       "<tr>\n",
       "  <th>Date:</th>            <td>Sun, 10 Dec 2023</td> <th>  Pseudo R-squ.:     </th>  <td>0.1627</td>  \n",
       "</tr>\n",
       "<tr>\n",
       "  <th>Time:</th>                <td>02:24:39</td>     <th>  Log-Likelihood:    </th> <td> -496.80</td> \n",
       "</tr>\n",
       "<tr>\n",
       "  <th>converged:</th>             <td>True</td>       <th>  LL-Null:           </th> <td> -593.33</td> \n",
       "</tr>\n",
       "<tr>\n",
       "  <th>Covariance Type:</th>     <td>nonrobust</td>    <th>  LLR p-value:       </th> <td>3.381e-38</td>\n",
       "</tr>\n",
       "</table>\n",
       "<table class=\"simpletable\">\n",
       "<tr>\n",
       "          <td></td>             <th>coef</th>     <th>std err</th>      <th>z</th>      <th>P>|z|</th>  <th>[0.025</th>    <th>0.975]</th>  \n",
       "</tr>\n",
       "<tr>\n",
       "  <th>Pclass</th>            <td>   -0.5763</td> <td>    0.142</td> <td>   -4.052</td> <td> 0.000</td> <td>   -0.855</td> <td>   -0.298</td>\n",
       "</tr>\n",
       "<tr>\n",
       "  <th>Fare</th>              <td>    0.0049</td> <td>    0.002</td> <td>    2.139</td> <td> 0.032</td> <td>    0.000</td> <td>    0.009</td>\n",
       "</tr>\n",
       "<tr>\n",
       "  <th>Age</th>               <td>   -0.0366</td> <td>    0.007</td> <td>   -5.194</td> <td> 0.000</td> <td>   -0.050</td> <td>   -0.023</td>\n",
       "</tr>\n",
       "<tr>\n",
       "  <th>Family</th>            <td>    0.1039</td> <td>    0.086</td> <td>    1.208</td> <td> 0.227</td> <td>   -0.065</td> <td>    0.272</td>\n",
       "</tr>\n",
       "<tr>\n",
       "  <th>cabin_cat_missing</th> <td>   -0.6823</td> <td>    0.255</td> <td>   -2.680</td> <td> 0.007</td> <td>   -1.181</td> <td>   -0.183</td>\n",
       "</tr>\n",
       "<tr>\n",
       "  <th>family_cat_duo</th>    <td>    2.4748</td> <td>    0.360</td> <td>    6.875</td> <td> 0.000</td> <td>    1.769</td> <td>    3.180</td>\n",
       "</tr>\n",
       "<tr>\n",
       "  <th>family_cat_small</th>  <td>    2.6633</td> <td>    0.343</td> <td>    7.766</td> <td> 0.000</td> <td>    1.991</td> <td>    3.335</td>\n",
       "</tr>\n",
       "<tr>\n",
       "  <th>family_cat_solo</th>   <td>    1.9811</td> <td>    0.382</td> <td>    5.189</td> <td> 0.000</td> <td>    1.233</td> <td>    2.729</td>\n",
       "</tr>\n",
       "</table>"
      ],
      "text/plain": [
       "<class 'statsmodels.iolib.summary.Summary'>\n",
       "\"\"\"\n",
       "                           Logit Regression Results                           \n",
       "==============================================================================\n",
       "Dep. Variable:               Survived   No. Observations:                  891\n",
       "Model:                          Logit   Df Residuals:                      883\n",
       "Method:                           MLE   Df Model:                            7\n",
       "Date:                Sun, 10 Dec 2023   Pseudo R-squ.:                  0.1627\n",
       "Time:                        02:24:39   Log-Likelihood:                -496.80\n",
       "converged:                       True   LL-Null:                       -593.33\n",
       "Covariance Type:            nonrobust   LLR p-value:                 3.381e-38\n",
       "=====================================================================================\n",
       "                        coef    std err          z      P>|z|      [0.025      0.975]\n",
       "-------------------------------------------------------------------------------------\n",
       "Pclass               -0.5763      0.142     -4.052      0.000      -0.855      -0.298\n",
       "Fare                  0.0049      0.002      2.139      0.032       0.000       0.009\n",
       "Age                  -0.0366      0.007     -5.194      0.000      -0.050      -0.023\n",
       "Family                0.1039      0.086      1.208      0.227      -0.065       0.272\n",
       "cabin_cat_missing    -0.6823      0.255     -2.680      0.007      -1.181      -0.183\n",
       "family_cat_duo        2.4748      0.360      6.875      0.000       1.769       3.180\n",
       "family_cat_small      2.6633      0.343      7.766      0.000       1.991       3.335\n",
       "family_cat_solo       1.9811      0.382      5.189      0.000       1.233       2.729\n",
       "=====================================================================================\n",
       "\"\"\""
      ]
     },
     "execution_count": 137,
     "metadata": {},
     "output_type": "execute_result"
    }
   ],
   "source": [
    "model = sma.Logit(y, newfeats).fit()\n",
    "model.summary()\n",
    "# Your model is a better model now"
   ]
  },
  {
   "cell_type": "markdown",
   "id": "bb129c28",
   "metadata": {},
   "source": [
    "### Predict the output using Sigmoid manually for our understanding"
   ]
  },
  {
   "cell_type": "code",
   "execution_count": 133,
   "id": "e2117d3b",
   "metadata": {},
   "outputs": [
    {
     "data": {
      "text/plain": [
       "Pclass              -0.576341\n",
       "Fare                 0.004883\n",
       "Age                 -0.036571\n",
       "Family               0.103851\n",
       "cabin_cat_missing   -0.682343\n",
       "family_cat_duo       2.474785\n",
       "family_cat_small     2.663275\n",
       "family_cat_solo      1.981147\n",
       "dtype: float64"
      ]
     },
     "execution_count": 133,
     "metadata": {},
     "output_type": "execute_result"
    }
   ],
   "source": [
    "model.params"
   ]
  },
  {
   "cell_type": "code",
   "execution_count": 134,
   "id": "45279820",
   "metadata": {},
   "outputs": [
    {
     "data": {
      "text/html": [
       "<div>\n",
       "<style scoped>\n",
       "    .dataframe tbody tr th:only-of-type {\n",
       "        vertical-align: middle;\n",
       "    }\n",
       "\n",
       "    .dataframe tbody tr th {\n",
       "        vertical-align: top;\n",
       "    }\n",
       "\n",
       "    .dataframe thead th {\n",
       "        text-align: right;\n",
       "    }\n",
       "</style>\n",
       "<table border=\"1\" class=\"dataframe\">\n",
       "  <thead>\n",
       "    <tr style=\"text-align: right;\">\n",
       "      <th></th>\n",
       "      <th>Pclass</th>\n",
       "      <th>Fare</th>\n",
       "      <th>Age</th>\n",
       "      <th>Family</th>\n",
       "      <th>cabin_cat_missing</th>\n",
       "      <th>family_cat_duo</th>\n",
       "      <th>family_cat_small</th>\n",
       "      <th>family_cat_solo</th>\n",
       "    </tr>\n",
       "  </thead>\n",
       "  <tbody>\n",
       "    <tr>\n",
       "      <th>891</th>\n",
       "      <td>3</td>\n",
       "      <td>7.8292</td>\n",
       "      <td>34.5</td>\n",
       "      <td>1</td>\n",
       "      <td>1</td>\n",
       "      <td>0</td>\n",
       "      <td>0</td>\n",
       "      <td>1</td>\n",
       "    </tr>\n",
       "  </tbody>\n",
       "</table>\n",
       "</div>"
      ],
      "text/plain": [
       "     Pclass    Fare   Age  Family  cabin_cat_missing  family_cat_duo  \\\n",
       "891       3  7.8292  34.5       1                  1               0   \n",
       "\n",
       "     family_cat_small  family_cat_solo  \n",
       "891                 0                1  "
      ]
     },
     "execution_count": 134,
     "metadata": {},
     "output_type": "execute_result"
    }
   ],
   "source": [
    "# get the all the columns from newtest mentioned in our list feats\n",
    "newtest.loc[:,feats].head(1)"
   ]
  },
  {
   "cell_type": "markdown",
   "id": "000fd895",
   "metadata": {},
   "source": [
    "### Equation for prediction\n",
    "\n",
    "* log(odds) = beta1* fare + beta2* family + beta3*cabin_cat_missing+....."
   ]
  },
  {
   "cell_type": "code",
   "execution_count": 141,
   "id": "a45212fb",
   "metadata": {},
   "outputs": [],
   "source": [
    "logit = model.params[0]*newtest['Pclass']+model.params[1]*newtest['Fare']+\\\n",
    "model.params[2]*newtest['Age']+model.params[3]*newtest['Family']+\\\n",
    "model.params[4]*newtest['cabin_cat_missing']+model.params[5]*newtest['family_cat_duo']+\\\n",
    "model.params[6]*newtest['family_cat_small']+model.params[7]*newtest['family_cat_solo']"
   ]
  },
  {
   "cell_type": "code",
   "execution_count": 150,
   "id": "ee41f30d",
   "metadata": {},
   "outputs": [
    {
     "name": "stdout",
     "output_type": "stream",
     "text": [
      "prob using sigmoid             0\n",
      "891  0.175112\n",
      "direct function 891    0.175112\n",
      "dtype: float64\n"
     ]
    }
   ],
   "source": [
    "# 1/(1+np.exp(-logit)) 0.175112\n",
    "prob = 1/(1+np.exp(-logit)) \n",
    "print('prob using sigmoid', pd.DataFrame(prob).head(1))\n",
    "direct = model.predict(newtest.loc[:,feats].head(1))\n",
    "print('direct function',direct) "
   ]
  },
  {
   "cell_type": "markdown",
   "id": "cb2e851a",
   "metadata": {},
   "source": [
    "- here we matched the value that we got by manually predicting with the values predicted by using the function"
   ]
  },
  {
   "cell_type": "markdown",
   "id": "1961975d",
   "metadata": {},
   "source": [
    "### Interpretations of Coefficients"
   ]
  },
  {
   "cell_type": "code",
   "execution_count": 151,
   "id": "8ebce177",
   "metadata": {},
   "outputs": [
    {
     "data": {
      "text/html": [
       "<table class=\"simpletable\">\n",
       "<caption>Logit Regression Results</caption>\n",
       "<tr>\n",
       "  <th>Dep. Variable:</th>       <td>Survived</td>     <th>  No. Observations:  </th>  <td>   891</td>  \n",
       "</tr>\n",
       "<tr>\n",
       "  <th>Model:</th>                 <td>Logit</td>      <th>  Df Residuals:      </th>  <td>   883</td>  \n",
       "</tr>\n",
       "<tr>\n",
       "  <th>Method:</th>                 <td>MLE</td>       <th>  Df Model:          </th>  <td>     7</td>  \n",
       "</tr>\n",
       "<tr>\n",
       "  <th>Date:</th>            <td>Sun, 10 Dec 2023</td> <th>  Pseudo R-squ.:     </th>  <td>0.1627</td>  \n",
       "</tr>\n",
       "<tr>\n",
       "  <th>Time:</th>                <td>02:47:55</td>     <th>  Log-Likelihood:    </th> <td> -496.80</td> \n",
       "</tr>\n",
       "<tr>\n",
       "  <th>converged:</th>             <td>True</td>       <th>  LL-Null:           </th> <td> -593.33</td> \n",
       "</tr>\n",
       "<tr>\n",
       "  <th>Covariance Type:</th>     <td>nonrobust</td>    <th>  LLR p-value:       </th> <td>3.381e-38</td>\n",
       "</tr>\n",
       "</table>\n",
       "<table class=\"simpletable\">\n",
       "<tr>\n",
       "          <td></td>             <th>coef</th>     <th>std err</th>      <th>z</th>      <th>P>|z|</th>  <th>[0.025</th>    <th>0.975]</th>  \n",
       "</tr>\n",
       "<tr>\n",
       "  <th>Pclass</th>            <td>   -0.5763</td> <td>    0.142</td> <td>   -4.052</td> <td> 0.000</td> <td>   -0.855</td> <td>   -0.298</td>\n",
       "</tr>\n",
       "<tr>\n",
       "  <th>Fare</th>              <td>    0.0049</td> <td>    0.002</td> <td>    2.139</td> <td> 0.032</td> <td>    0.000</td> <td>    0.009</td>\n",
       "</tr>\n",
       "<tr>\n",
       "  <th>Age</th>               <td>   -0.0366</td> <td>    0.007</td> <td>   -5.194</td> <td> 0.000</td> <td>   -0.050</td> <td>   -0.023</td>\n",
       "</tr>\n",
       "<tr>\n",
       "  <th>Family</th>            <td>    0.1039</td> <td>    0.086</td> <td>    1.208</td> <td> 0.227</td> <td>   -0.065</td> <td>    0.272</td>\n",
       "</tr>\n",
       "<tr>\n",
       "  <th>cabin_cat_missing</th> <td>   -0.6823</td> <td>    0.255</td> <td>   -2.680</td> <td> 0.007</td> <td>   -1.181</td> <td>   -0.183</td>\n",
       "</tr>\n",
       "<tr>\n",
       "  <th>family_cat_duo</th>    <td>    2.4748</td> <td>    0.360</td> <td>    6.875</td> <td> 0.000</td> <td>    1.769</td> <td>    3.180</td>\n",
       "</tr>\n",
       "<tr>\n",
       "  <th>family_cat_small</th>  <td>    2.6633</td> <td>    0.343</td> <td>    7.766</td> <td> 0.000</td> <td>    1.991</td> <td>    3.335</td>\n",
       "</tr>\n",
       "<tr>\n",
       "  <th>family_cat_solo</th>   <td>    1.9811</td> <td>    0.382</td> <td>    5.189</td> <td> 0.000</td> <td>    1.233</td> <td>    2.729</td>\n",
       "</tr>\n",
       "</table>"
      ],
      "text/plain": [
       "<class 'statsmodels.iolib.summary.Summary'>\n",
       "\"\"\"\n",
       "                           Logit Regression Results                           \n",
       "==============================================================================\n",
       "Dep. Variable:               Survived   No. Observations:                  891\n",
       "Model:                          Logit   Df Residuals:                      883\n",
       "Method:                           MLE   Df Model:                            7\n",
       "Date:                Sun, 10 Dec 2023   Pseudo R-squ.:                  0.1627\n",
       "Time:                        02:47:55   Log-Likelihood:                -496.80\n",
       "converged:                       True   LL-Null:                       -593.33\n",
       "Covariance Type:            nonrobust   LLR p-value:                 3.381e-38\n",
       "=====================================================================================\n",
       "                        coef    std err          z      P>|z|      [0.025      0.975]\n",
       "-------------------------------------------------------------------------------------\n",
       "Pclass               -0.5763      0.142     -4.052      0.000      -0.855      -0.298\n",
       "Fare                  0.0049      0.002      2.139      0.032       0.000       0.009\n",
       "Age                  -0.0366      0.007     -5.194      0.000      -0.050      -0.023\n",
       "Family                0.1039      0.086      1.208      0.227      -0.065       0.272\n",
       "cabin_cat_missing    -0.6823      0.255     -2.680      0.007      -1.181      -0.183\n",
       "family_cat_duo        2.4748      0.360      6.875      0.000       1.769       3.180\n",
       "family_cat_small      2.6633      0.343      7.766      0.000       1.991       3.335\n",
       "family_cat_solo       1.9811      0.382      5.189      0.000       1.233       2.729\n",
       "=====================================================================================\n",
       "\"\"\""
      ]
     },
     "execution_count": 151,
     "metadata": {},
     "output_type": "execute_result"
    }
   ],
   "source": [
    "model.summary()"
   ]
  },
  {
   "cell_type": "code",
   "execution_count": 152,
   "id": "4c3298da",
   "metadata": {},
   "outputs": [
    {
     "data": {
      "text/plain": [
       "1.0049120246322103"
      ]
     },
     "execution_count": 152,
     "metadata": {},
     "output_type": "execute_result"
    }
   ],
   "source": [
    "np.exp(0.0049) # increase of odds\n",
    "\n",
    "# By an increase in Fare by 1$ the odd of surving increased by 100x"
   ]
  },
  {
   "cell_type": "markdown",
   "id": "d12ecf4b",
   "metadata": {},
   "source": [
    "### Pseudo R2 \n",
    "\n",
    "* **McFadden** - Here R2 is not similar to the Linear Regression. There in we interpret the R2 as the ratio of the variance in Y explained by X\n",
    "\n",
    "* Because the variance in Y is not explained by X in logistic regression, however R2 exists and therefore it is called Pseudo R2\n",
    "\n",
    "* Therefore McFadden R2 is calculated by taking log of your likelihood of your full model devided by your likelihood of your null model(LL_full/LL_null). This is (1 - LLF/LLN)\n",
    "\n",
    "* Note- the value of McFadden R2 will be in a range of 0 and 1\n",
    "* here **0 represents that the model has no explanatory power whereas 1 represent that the model has very high explanatory power**\n",
    "\n",
    "* The reange of McFadde from 0.2-0.4 , genrally if the model has the R2 fallin in this range than we can say that the model is a good model"
   ]
  },
  {
   "cell_type": "code",
   "execution_count": 155,
   "id": "2de18b86",
   "metadata": {},
   "outputs": [
    {
     "name": "stdout",
     "output_type": "stream",
     "text": [
      "McFadden R2 0.16269210851308646\n"
     ]
    }
   ],
   "source": [
    "# McFadden\n",
    "mcFadden = 1-(model.llf/model.llnull)\n",
    "print('McFadden R2',mcFadden)"
   ]
  },
  {
   "cell_type": "code",
   "execution_count": 158,
   "id": "455b9c0d",
   "metadata": {},
   "outputs": [],
   "source": [
    "# Cox and snell\n",
    "\n",
    "lo = np.exp(model.llnull)\n",
    "l1 = np.exp(model.llf) \n",
    "\n",
    "cox_snell = 1- (lo/l1) ** (2/newX.shape[0])"
   ]
  },
  {
   "cell_type": "code",
   "execution_count": 160,
   "id": "1ff1b841",
   "metadata": {},
   "outputs": [
    {
     "name": "stdout",
     "output_type": "stream",
     "text": [
      "McFadden 0.16269210851308646\n",
      "cox and snell 0.1948101945094688\n",
      "nagelkerke 0.2646860770499358\n"
     ]
    }
   ],
   "source": [
    "# Nagelkerke\n",
    "\n",
    "nagelkerke = cox_snell/(1-lo**(2/newX.shape[0]))\n",
    "\n",
    "print('McFadden', mcFadden)\n",
    "print('cox and snell',cox_snell)\n",
    "print('nagelkerke',nagelkerke)"
   ]
  },
  {
   "cell_type": "markdown",
   "id": "3663d838",
   "metadata": {},
   "source": [
    "### Which one to go with?\n",
    "\n",
    "* McFadden is generally a conservative estimate\n",
    "* Cox and snell is used to compare the nested models and thus it arries a lot of referenece there, because the value R2 is adjusted on the basis of n.\n",
    "\n",
    "* Nagelkereke is based on cox and snell but it is more better estimate because it can easily achieve vales closer to 1 ( not really) but it is the higest R2 amonst all\n",
    "\n",
    "* therefore is a goto R2 value for the model"
   ]
  },
  {
   "cell_type": "code",
   "execution_count": null,
   "id": "b03cfd9d",
   "metadata": {},
   "outputs": [],
   "source": []
  }
 ],
 "metadata": {
  "kernelspec": {
   "display_name": "Python 3 (ipykernel)",
   "language": "python",
   "name": "python3"
  },
  "language_info": {
   "codemirror_mode": {
    "name": "ipython",
    "version": 3
   },
   "file_extension": ".py",
   "mimetype": "text/x-python",
   "name": "python",
   "nbconvert_exporter": "python",
   "pygments_lexer": "ipython3",
   "version": "3.11.3"
  }
 },
 "nbformat": 4,
 "nbformat_minor": 5
}
